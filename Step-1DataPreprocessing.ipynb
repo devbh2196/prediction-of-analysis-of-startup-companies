{
 "cells": [
  {
   "cell_type": "markdown",
   "id": "b187c771",
   "metadata": {},
   "source": [
    "# Predictive-Analysis-of-Startup-Acquisition-Status"
   ]
  },
  {
   "cell_type": "markdown",
   "id": "f5b2d130",
   "metadata": {},
   "source": [
    "## Introduction\n",
    " Study the funding analysis of startuo companies and their present financial state."
   ]
  },
  {
   "cell_type": "code",
   "execution_count": 1,
   "id": "7080ad1a",
   "metadata": {
    "id": "7080ad1a"
   },
   "outputs": [],
   "source": [
    "import pandas as pd\n",
    "import numpy as np\n",
    "import warnings\n",
    "import matplotlib.pyplot as plt\n",
    "import seaborn as sns\n",
    "import datetime\n",
    "\n",
    "sns.set()\n",
    "warnings.filterwarnings('ignore')"
   ]
  },
  {
   "cell_type": "code",
   "execution_count": 2,
   "id": "1d2aec89",
   "metadata": {
    "id": "1d2aec89"
   },
   "outputs": [
    {
     "data": {
      "text/html": [
       "<div>\n",
       "<style scoped>\n",
       "    .dataframe tbody tr th:only-of-type {\n",
       "        vertical-align: middle;\n",
       "    }\n",
       "\n",
       "    .dataframe tbody tr th {\n",
       "        vertical-align: top;\n",
       "    }\n",
       "\n",
       "    .dataframe thead th {\n",
       "        text-align: right;\n",
       "    }\n",
       "</style>\n",
       "<table border=\"1\" class=\"dataframe\">\n",
       "  <thead>\n",
       "    <tr style=\"text-align: right;\">\n",
       "      <th></th>\n",
       "      <th>id</th>\n",
       "      <th>Unnamed: 0.1</th>\n",
       "      <th>entity_type</th>\n",
       "      <th>entity_id</th>\n",
       "      <th>parent_id</th>\n",
       "      <th>name</th>\n",
       "      <th>normalized_name</th>\n",
       "      <th>permalink</th>\n",
       "      <th>category_code</th>\n",
       "      <th>status</th>\n",
       "      <th>...</th>\n",
       "      <th>first_milestone_at</th>\n",
       "      <th>last_milestone_at</th>\n",
       "      <th>milestones</th>\n",
       "      <th>relationships</th>\n",
       "      <th>created_by</th>\n",
       "      <th>created_at</th>\n",
       "      <th>updated_at</th>\n",
       "      <th>lat</th>\n",
       "      <th>lng</th>\n",
       "      <th>ROI</th>\n",
       "    </tr>\n",
       "  </thead>\n",
       "  <tbody>\n",
       "    <tr>\n",
       "      <th>0</th>\n",
       "      <td>c:1</td>\n",
       "      <td>0</td>\n",
       "      <td>Company</td>\n",
       "      <td>1</td>\n",
       "      <td>NaN</td>\n",
       "      <td>Wetpaint</td>\n",
       "      <td>wetpaint</td>\n",
       "      <td>/company/wetpaint</td>\n",
       "      <td>web</td>\n",
       "      <td>operating</td>\n",
       "      <td>...</td>\n",
       "      <td>2010-09-05</td>\n",
       "      <td>2013-09-18</td>\n",
       "      <td>5.0</td>\n",
       "      <td>17.0</td>\n",
       "      <td>initial-importer</td>\n",
       "      <td>2007-05-25 06:51:27</td>\n",
       "      <td>2013-04-13 03:29:00</td>\n",
       "      <td>47.606209</td>\n",
       "      <td>-122.332071</td>\n",
       "      <td>15.5</td>\n",
       "    </tr>\n",
       "    <tr>\n",
       "      <th>1</th>\n",
       "      <td>c:10</td>\n",
       "      <td>1</td>\n",
       "      <td>Company</td>\n",
       "      <td>10</td>\n",
       "      <td>NaN</td>\n",
       "      <td>Flektor</td>\n",
       "      <td>flektor</td>\n",
       "      <td>/company/flektor</td>\n",
       "      <td>games_video</td>\n",
       "      <td>acquired</td>\n",
       "      <td>...</td>\n",
       "      <td>NaN</td>\n",
       "      <td>NaN</td>\n",
       "      <td>NaN</td>\n",
       "      <td>6.0</td>\n",
       "      <td>initial-importer</td>\n",
       "      <td>2007-05-31 21:11:51</td>\n",
       "      <td>2008-05-23 23:23:14</td>\n",
       "      <td>34.021122</td>\n",
       "      <td>-118.396467</td>\n",
       "      <td>NaN</td>\n",
       "    </tr>\n",
       "    <tr>\n",
       "      <th>2</th>\n",
       "      <td>c:100</td>\n",
       "      <td>2</td>\n",
       "      <td>Company</td>\n",
       "      <td>100</td>\n",
       "      <td>NaN</td>\n",
       "      <td>There</td>\n",
       "      <td>there</td>\n",
       "      <td>/company/there</td>\n",
       "      <td>games_video</td>\n",
       "      <td>acquired</td>\n",
       "      <td>...</td>\n",
       "      <td>2003-02-01</td>\n",
       "      <td>2011-09-23</td>\n",
       "      <td>4.0</td>\n",
       "      <td>12.0</td>\n",
       "      <td>initial-importer</td>\n",
       "      <td>2007-08-06 23:52:45</td>\n",
       "      <td>2013-11-04 02:09:48</td>\n",
       "      <td>37.562992</td>\n",
       "      <td>-122.325525</td>\n",
       "      <td>NaN</td>\n",
       "    </tr>\n",
       "    <tr>\n",
       "      <th>3</th>\n",
       "      <td>c:10000</td>\n",
       "      <td>3</td>\n",
       "      <td>Company</td>\n",
       "      <td>10000</td>\n",
       "      <td>NaN</td>\n",
       "      <td>MYWEBBO</td>\n",
       "      <td>mywebbo</td>\n",
       "      <td>/company/mywebbo</td>\n",
       "      <td>network_hosting</td>\n",
       "      <td>operating</td>\n",
       "      <td>...</td>\n",
       "      <td>NaN</td>\n",
       "      <td>NaN</td>\n",
       "      <td>NaN</td>\n",
       "      <td>NaN</td>\n",
       "      <td>NaN</td>\n",
       "      <td>2008-08-24 16:51:57</td>\n",
       "      <td>2008-09-06 14:19:18</td>\n",
       "      <td>NaN</td>\n",
       "      <td>NaN</td>\n",
       "      <td>NaN</td>\n",
       "    </tr>\n",
       "    <tr>\n",
       "      <th>4</th>\n",
       "      <td>c:10001</td>\n",
       "      <td>4</td>\n",
       "      <td>Company</td>\n",
       "      <td>10001</td>\n",
       "      <td>NaN</td>\n",
       "      <td>THE Movie Streamer</td>\n",
       "      <td>the movie streamer</td>\n",
       "      <td>/company/the-movie-streamer</td>\n",
       "      <td>games_video</td>\n",
       "      <td>operating</td>\n",
       "      <td>...</td>\n",
       "      <td>NaN</td>\n",
       "      <td>NaN</td>\n",
       "      <td>NaN</td>\n",
       "      <td>NaN</td>\n",
       "      <td>NaN</td>\n",
       "      <td>2008-08-24 17:10:34</td>\n",
       "      <td>2008-09-06 14:19:18</td>\n",
       "      <td>NaN</td>\n",
       "      <td>NaN</td>\n",
       "      <td>NaN</td>\n",
       "    </tr>\n",
       "  </tbody>\n",
       "</table>\n",
       "<p>5 rows × 44 columns</p>\n",
       "</div>"
      ],
      "text/plain": [
       "        id  Unnamed: 0.1 entity_type  entity_id  parent_id  \\\n",
       "0      c:1             0     Company          1        NaN   \n",
       "1     c:10             1     Company         10        NaN   \n",
       "2    c:100             2     Company        100        NaN   \n",
       "3  c:10000             3     Company      10000        NaN   \n",
       "4  c:10001             4     Company      10001        NaN   \n",
       "\n",
       "                 name     normalized_name                    permalink  \\\n",
       "0            Wetpaint            wetpaint            /company/wetpaint   \n",
       "1             Flektor             flektor             /company/flektor   \n",
       "2               There               there               /company/there   \n",
       "3             MYWEBBO             mywebbo             /company/mywebbo   \n",
       "4  THE Movie Streamer  the movie streamer  /company/the-movie-streamer   \n",
       "\n",
       "     category_code     status  ... first_milestone_at last_milestone_at  \\\n",
       "0              web  operating  ...         2010-09-05        2013-09-18   \n",
       "1      games_video   acquired  ...                NaN               NaN   \n",
       "2      games_video   acquired  ...         2003-02-01        2011-09-23   \n",
       "3  network_hosting  operating  ...                NaN               NaN   \n",
       "4      games_video  operating  ...                NaN               NaN   \n",
       "\n",
       "  milestones relationships        created_by           created_at  \\\n",
       "0        5.0          17.0  initial-importer  2007-05-25 06:51:27   \n",
       "1        NaN           6.0  initial-importer  2007-05-31 21:11:51   \n",
       "2        4.0          12.0  initial-importer  2007-08-06 23:52:45   \n",
       "3        NaN           NaN               NaN  2008-08-24 16:51:57   \n",
       "4        NaN           NaN               NaN  2008-08-24 17:10:34   \n",
       "\n",
       "            updated_at        lat         lng   ROI  \n",
       "0  2013-04-13 03:29:00  47.606209 -122.332071  15.5  \n",
       "1  2008-05-23 23:23:14  34.021122 -118.396467   NaN  \n",
       "2  2013-11-04 02:09:48  37.562992 -122.325525   NaN  \n",
       "3  2008-09-06 14:19:18        NaN         NaN   NaN  \n",
       "4  2008-09-06 14:19:18        NaN         NaN   NaN  \n",
       "\n",
       "[5 rows x 44 columns]"
      ]
     },
     "execution_count": 2,
     "metadata": {},
     "output_type": "execute_result"
    }
   ],
   "source": [
    "data = pd.read_csv(\"companies.csv\")\n",
    "data.head()"
   ]
  },
  {
   "cell_type": "code",
   "execution_count": 3,
   "id": "74d126ce",
   "metadata": {
    "id": "74d126ce"
   },
   "outputs": [
    {
     "data": {
      "text/html": [
       "<div>\n",
       "<style scoped>\n",
       "    .dataframe tbody tr th:only-of-type {\n",
       "        vertical-align: middle;\n",
       "    }\n",
       "\n",
       "    .dataframe tbody tr th {\n",
       "        vertical-align: top;\n",
       "    }\n",
       "\n",
       "    .dataframe thead th {\n",
       "        text-align: right;\n",
       "    }\n",
       "</style>\n",
       "<table border=\"1\" class=\"dataframe\">\n",
       "  <thead>\n",
       "    <tr style=\"text-align: right;\">\n",
       "      <th></th>\n",
       "      <th>Unnamed: 0.1</th>\n",
       "      <th>entity_id</th>\n",
       "      <th>parent_id</th>\n",
       "      <th>logo_width</th>\n",
       "      <th>logo_height</th>\n",
       "      <th>investment_rounds</th>\n",
       "      <th>invested_companies</th>\n",
       "      <th>funding_rounds</th>\n",
       "      <th>funding_total_usd</th>\n",
       "      <th>milestones</th>\n",
       "      <th>relationships</th>\n",
       "      <th>lat</th>\n",
       "      <th>lng</th>\n",
       "      <th>ROI</th>\n",
       "    </tr>\n",
       "  </thead>\n",
       "  <tbody>\n",
       "    <tr>\n",
       "      <th>count</th>\n",
       "      <td>196553.000000</td>\n",
       "      <td>196553.000000</td>\n",
       "      <td>0.0</td>\n",
       "      <td>110110.000000</td>\n",
       "      <td>110110.000000</td>\n",
       "      <td>2591.000000</td>\n",
       "      <td>2591.000000</td>\n",
       "      <td>31707.000000</td>\n",
       "      <td>2.787400e+04</td>\n",
       "      <td>91699.000000</td>\n",
       "      <td>129667.000000</td>\n",
       "      <td>83852.000000</td>\n",
       "      <td>83852.000000</td>\n",
       "      <td>726.000000</td>\n",
       "    </tr>\n",
       "    <tr>\n",
       "      <th>mean</th>\n",
       "      <td>98276.000000</td>\n",
       "      <td>153006.227333</td>\n",
       "      <td>NaN</td>\n",
       "      <td>459.132685</td>\n",
       "      <td>222.728917</td>\n",
       "      <td>2.372057</td>\n",
       "      <td>2.204940</td>\n",
       "      <td>1.659760</td>\n",
       "      <td>1.481652e+07</td>\n",
       "      <td>1.199402</td>\n",
       "      <td>2.852067</td>\n",
       "      <td>37.564512</td>\n",
       "      <td>-52.123066</td>\n",
       "      <td>45.745037</td>\n",
       "    </tr>\n",
       "    <tr>\n",
       "      <th>std</th>\n",
       "      <td>56740.108067</td>\n",
       "      <td>90209.250941</td>\n",
       "      <td>NaN</td>\n",
       "      <td>594.982577</td>\n",
       "      <td>333.090722</td>\n",
       "      <td>12.173510</td>\n",
       "      <td>11.436955</td>\n",
       "      <td>1.201666</td>\n",
       "      <td>6.775937e+07</td>\n",
       "      <td>0.540099</td>\n",
       "      <td>9.100309</td>\n",
       "      <td>15.477102</td>\n",
       "      <td>70.049067</td>\n",
       "      <td>572.035638</td>\n",
       "    </tr>\n",
       "    <tr>\n",
       "      <th>min</th>\n",
       "      <td>0.000000</td>\n",
       "      <td>1.000000</td>\n",
       "      <td>NaN</td>\n",
       "      <td>1.000000</td>\n",
       "      <td>1.000000</td>\n",
       "      <td>1.000000</td>\n",
       "      <td>1.000000</td>\n",
       "      <td>1.000000</td>\n",
       "      <td>2.910000e+02</td>\n",
       "      <td>1.000000</td>\n",
       "      <td>1.000000</td>\n",
       "      <td>-50.942326</td>\n",
       "      <td>-159.497746</td>\n",
       "      <td>0.011111</td>\n",
       "    </tr>\n",
       "    <tr>\n",
       "      <th>25%</th>\n",
       "      <td>49138.000000</td>\n",
       "      <td>59850.000000</td>\n",
       "      <td>NaN</td>\n",
       "      <td>192.000000</td>\n",
       "      <td>70.000000</td>\n",
       "      <td>1.000000</td>\n",
       "      <td>1.000000</td>\n",
       "      <td>1.000000</td>\n",
       "      <td>5.000000e+05</td>\n",
       "      <td>1.000000</td>\n",
       "      <td>1.000000</td>\n",
       "      <td>34.052234</td>\n",
       "      <td>-111.940005</td>\n",
       "      <td>2.648879</td>\n",
       "    </tr>\n",
       "    <tr>\n",
       "      <th>50%</th>\n",
       "      <td>98276.000000</td>\n",
       "      <td>174539.000000</td>\n",
       "      <td>NaN</td>\n",
       "      <td>267.000000</td>\n",
       "      <td>105.000000</td>\n",
       "      <td>1.000000</td>\n",
       "      <td>1.000000</td>\n",
       "      <td>1.000000</td>\n",
       "      <td>2.564500e+06</td>\n",
       "      <td>1.000000</td>\n",
       "      <td>1.000000</td>\n",
       "      <td>39.768403</td>\n",
       "      <td>-77.036871</td>\n",
       "      <td>6.500497</td>\n",
       "    </tr>\n",
       "    <tr>\n",
       "      <th>75%</th>\n",
       "      <td>147414.000000</td>\n",
       "      <td>232655.000000</td>\n",
       "      <td>NaN</td>\n",
       "      <td>484.000000</td>\n",
       "      <td>232.000000</td>\n",
       "      <td>1.000000</td>\n",
       "      <td>1.000000</td>\n",
       "      <td>2.000000</td>\n",
       "      <td>1.100000e+07</td>\n",
       "      <td>1.000000</td>\n",
       "      <td>3.000000</td>\n",
       "      <td>45.421530</td>\n",
       "      <td>-0.127758</td>\n",
       "      <td>13.549900</td>\n",
       "    </tr>\n",
       "    <tr>\n",
       "      <th>max</th>\n",
       "      <td>196552.000000</td>\n",
       "      <td>286215.000000</td>\n",
       "      <td>NaN</td>\n",
       "      <td>18200.000000</td>\n",
       "      <td>9600.000000</td>\n",
       "      <td>478.000000</td>\n",
       "      <td>459.000000</td>\n",
       "      <td>15.000000</td>\n",
       "      <td>5.700000e+09</td>\n",
       "      <td>9.000000</td>\n",
       "      <td>1189.000000</td>\n",
       "      <td>77.553604</td>\n",
       "      <td>176.212549</td>\n",
       "      <td>13333.333333</td>\n",
       "    </tr>\n",
       "  </tbody>\n",
       "</table>\n",
       "</div>"
      ],
      "text/plain": [
       "        Unnamed: 0.1      entity_id  parent_id     logo_width    logo_height  \\\n",
       "count  196553.000000  196553.000000        0.0  110110.000000  110110.000000   \n",
       "mean    98276.000000  153006.227333        NaN     459.132685     222.728917   \n",
       "std     56740.108067   90209.250941        NaN     594.982577     333.090722   \n",
       "min         0.000000       1.000000        NaN       1.000000       1.000000   \n",
       "25%     49138.000000   59850.000000        NaN     192.000000      70.000000   \n",
       "50%     98276.000000  174539.000000        NaN     267.000000     105.000000   \n",
       "75%    147414.000000  232655.000000        NaN     484.000000     232.000000   \n",
       "max    196552.000000  286215.000000        NaN   18200.000000    9600.000000   \n",
       "\n",
       "       investment_rounds  invested_companies  funding_rounds  \\\n",
       "count        2591.000000         2591.000000    31707.000000   \n",
       "mean            2.372057            2.204940        1.659760   \n",
       "std            12.173510           11.436955        1.201666   \n",
       "min             1.000000            1.000000        1.000000   \n",
       "25%             1.000000            1.000000        1.000000   \n",
       "50%             1.000000            1.000000        1.000000   \n",
       "75%             1.000000            1.000000        2.000000   \n",
       "max           478.000000          459.000000       15.000000   \n",
       "\n",
       "       funding_total_usd    milestones  relationships           lat  \\\n",
       "count       2.787400e+04  91699.000000  129667.000000  83852.000000   \n",
       "mean        1.481652e+07      1.199402       2.852067     37.564512   \n",
       "std         6.775937e+07      0.540099       9.100309     15.477102   \n",
       "min         2.910000e+02      1.000000       1.000000    -50.942326   \n",
       "25%         5.000000e+05      1.000000       1.000000     34.052234   \n",
       "50%         2.564500e+06      1.000000       1.000000     39.768403   \n",
       "75%         1.100000e+07      1.000000       3.000000     45.421530   \n",
       "max         5.700000e+09      9.000000    1189.000000     77.553604   \n",
       "\n",
       "                lng           ROI  \n",
       "count  83852.000000    726.000000  \n",
       "mean     -52.123066     45.745037  \n",
       "std       70.049067    572.035638  \n",
       "min     -159.497746      0.011111  \n",
       "25%     -111.940005      2.648879  \n",
       "50%      -77.036871      6.500497  \n",
       "75%       -0.127758     13.549900  \n",
       "max      176.212549  13333.333333  "
      ]
     },
     "execution_count": 3,
     "metadata": {},
     "output_type": "execute_result"
    }
   ],
   "source": [
    "data.describe()"
   ]
  },
  {
   "cell_type": "code",
   "execution_count": 4,
   "id": "8117f7f4",
   "metadata": {},
   "outputs": [
    {
     "data": {
      "text/plain": [
       "(196553, 44)"
      ]
     },
     "execution_count": 4,
     "metadata": {},
     "output_type": "execute_result"
    }
   ],
   "source": [
    "data.shape"
   ]
  },
  {
   "cell_type": "code",
   "execution_count": 5,
   "id": "d16920a4",
   "metadata": {
    "id": "d16920a4",
    "scrolled": true
   },
   "outputs": [
    {
     "data": {
      "text/plain": [
       "Index(['id', 'Unnamed: 0.1', 'entity_type', 'entity_id', 'parent_id', 'name',\n",
       "       'normalized_name', 'permalink', 'category_code', 'status', 'founded_at',\n",
       "       'closed_at', 'domain', 'homepage_url', 'twitter_username', 'logo_url',\n",
       "       'logo_width', 'logo_height', 'short_description', 'description',\n",
       "       'overview', 'tag_list', 'country_code', 'state_code', 'city', 'region',\n",
       "       'first_investment_at', 'last_investment_at', 'investment_rounds',\n",
       "       'invested_companies', 'first_funding_at', 'last_funding_at',\n",
       "       'funding_rounds', 'funding_total_usd', 'first_milestone_at',\n",
       "       'last_milestone_at', 'milestones', 'relationships', 'created_by',\n",
       "       'created_at', 'updated_at', 'lat', 'lng', 'ROI'],\n",
       "      dtype='object')"
      ]
     },
     "execution_count": 5,
     "metadata": {},
     "output_type": "execute_result"
    }
   ],
   "source": [
    "data.columns"
   ]
  },
  {
   "cell_type": "markdown",
   "id": "b2c1d84a",
   "metadata": {
    "id": "b2c1d84a"
   },
   "source": [
    "## A. Data Cleaning\n",
    "    1. Delete irrelevant & redundant information\n",
    "    2. Remove noise or unreliable data (missing values and outliers)\n",
    "    \n",
    "### 1. Delete irrelevant and redundant information\n",
    "     a. Delete 'region','city','state_code' as they provide too much of granularity.\n",
    "     b. Delete 'id', 'Unnamed: 0.1', 'entity_type', 'entity_id', 'parent_id', 'created_by',\n",
    "       'created_at', 'updated_at' as they are redundant.\n",
    "     c. Delete 'domain', 'homepage_url', 'twitter_username', 'logo_url', 'logo_width', 'logo_height',           \n",
    "        'short_description', 'description', 'overview','tag_list', 'name', 'normalized_name', 'permalink',    \n",
    "        'invested_companies' as they are irrelevant features.\n",
    "     d. Delete duplicate values if any.\n",
    "     e. Delete those which has more than 98% of null values.\n",
    "     \n",
    "### 2. Remove noise or unreliable data (missing values and outliers)\n",
    "     a. Delete instances with missing values for 'status', 'country_code', 'category_code' and 'founded_at'.\n",
    "     b. Delete outliers for 'funding_total_usd' and 'funding_rounds'.\n",
    "     c. Delete contradictory (mutually opposed or inconsistent data)."
   ]
  },
  {
   "cell_type": "markdown",
   "id": "8ad89355",
   "metadata": {
    "id": "8ad89355"
   },
   "source": [
    "#### 1.a. Delete 'region','city' as they provide too much of granularity.    "
   ]
  },
  {
   "cell_type": "code",
   "execution_count": 6,
   "id": "3aa976b4",
   "metadata": {
    "id": "3aa976b4",
    "scrolled": true
   },
   "outputs": [],
   "source": [
    "del data['region']\n",
    "del data['city']\n",
    "del data['state_code']"
   ]
  },
  {
   "cell_type": "code",
   "execution_count": 7,
   "id": "8b81b7ec",
   "metadata": {},
   "outputs": [
    {
     "data": {
      "text/plain": [
       "(196553, 41)"
      ]
     },
     "execution_count": 7,
     "metadata": {},
     "output_type": "execute_result"
    }
   ],
   "source": [
    "data.shape"
   ]
  },
  {
   "cell_type": "markdown",
   "id": "32384c4b",
   "metadata": {
    "id": "32384c4b"
   },
   "source": [
    "#### 1.b. Delete 'id', 'Unnamed: 0.1', 'entity_type', 'entity_id', 'parent_id', 'created_by', 'created_at', 'updated_at' as they are redundant."
   ]
  },
  {
   "cell_type": "code",
   "execution_count": 8,
   "id": "1207e29d",
   "metadata": {
    "id": "1207e29d"
   },
   "outputs": [],
   "source": [
    "del data['id']\n",
    "del data['Unnamed: 0.1']\n",
    "del data['entity_id']\n",
    "del data['parent_id']\n",
    "del data['created_by']\n",
    "del data['created_at']\n",
    "del data['updated_at']\n",
    "del data['entity_type']"
   ]
  },
  {
   "cell_type": "markdown",
   "id": "51eedcef",
   "metadata": {
    "id": "51eedcef"
   },
   "source": [
    "#### 1.c. Delete 'domain', 'homepage_url', 'twitter_username', 'logo_url', 'logo_width', 'logo_height',  'short_description',    'description',  'overview','tag_list', 'name', 'normalized_name', 'permalink', 'invested_companies' as they are irrelevant features."
   ]
  },
  {
   "cell_type": "code",
   "execution_count": 9,
   "id": "b8e058a3",
   "metadata": {
    "id": "b8e058a3"
   },
   "outputs": [],
   "source": [
    "del data['domain'] \n",
    "del data['homepage_url']\n",
    "del data['twitter_username'] \n",
    "del data['logo_width']\n",
    "del data['logo_url']\n",
    "del data['logo_height']\n",
    "del data['short_description']\n",
    "del data['description']\n",
    "del data['overview']\n",
    "del data['tag_list']\n",
    "del data['name']\n",
    "del data['normalized_name']\n",
    "del data['permalink']\n",
    "del data['invested_companies']"
   ]
  },
  {
   "cell_type": "code",
   "execution_count": 10,
   "id": "165676bf",
   "metadata": {},
   "outputs": [
    {
     "data": {
      "text/plain": [
       "(196553, 19)"
      ]
     },
     "execution_count": 10,
     "metadata": {},
     "output_type": "execute_result"
    }
   ],
   "source": [
    "data.shape"
   ]
  },
  {
   "cell_type": "markdown",
   "id": "b813699d",
   "metadata": {
    "id": "b813699d"
   },
   "source": [
    "#### 1.d. Delete duplicate values if found any."
   ]
  },
  {
   "cell_type": "code",
   "execution_count": 11,
   "id": "318b61f8",
   "metadata": {},
   "outputs": [
    {
     "data": {
      "text/plain": [
       "category_code            42\n",
       "status                    4\n",
       "founded_at             6156\n",
       "closed_at               925\n",
       "country_code            175\n",
       "first_investment_at    1197\n",
       "last_investment_at     1105\n",
       "investment_rounds        41\n",
       "first_funding_at       3208\n",
       "last_funding_at        2978\n",
       "funding_rounds           15\n",
       "funding_total_usd      9720\n",
       "first_milestone_at     4080\n",
       "last_milestone_at      3966\n",
       "milestones                9\n",
       "relationships           155\n",
       "lat                    7962\n",
       "lng                    7954\n",
       "ROI                     657\n",
       "dtype: int64"
      ]
     },
     "execution_count": 11,
     "metadata": {},
     "output_type": "execute_result"
    }
   ],
   "source": [
    "data.nunique()"
   ]
  },
  {
   "cell_type": "code",
   "execution_count": 12,
   "id": "485c1371",
   "metadata": {},
   "outputs": [
    {
     "data": {
      "text/plain": [
       "87089"
      ]
     },
     "execution_count": 12,
     "metadata": {},
     "output_type": "execute_result"
    }
   ],
   "source": [
    "data.duplicated().sum()"
   ]
  },
  {
   "cell_type": "code",
   "execution_count": 13,
   "id": "15d433c4",
   "metadata": {
    "id": "15d433c4"
   },
   "outputs": [
    {
     "data": {
      "text/html": [
       "<div>\n",
       "<style scoped>\n",
       "    .dataframe tbody tr th:only-of-type {\n",
       "        vertical-align: middle;\n",
       "    }\n",
       "\n",
       "    .dataframe tbody tr th {\n",
       "        vertical-align: top;\n",
       "    }\n",
       "\n",
       "    .dataframe thead th {\n",
       "        text-align: right;\n",
       "    }\n",
       "</style>\n",
       "<table border=\"1\" class=\"dataframe\">\n",
       "  <thead>\n",
       "    <tr style=\"text-align: right;\">\n",
       "      <th></th>\n",
       "      <th>category_code</th>\n",
       "      <th>status</th>\n",
       "      <th>founded_at</th>\n",
       "      <th>closed_at</th>\n",
       "      <th>country_code</th>\n",
       "      <th>first_investment_at</th>\n",
       "      <th>last_investment_at</th>\n",
       "      <th>investment_rounds</th>\n",
       "      <th>first_funding_at</th>\n",
       "      <th>last_funding_at</th>\n",
       "      <th>funding_rounds</th>\n",
       "      <th>funding_total_usd</th>\n",
       "      <th>first_milestone_at</th>\n",
       "      <th>last_milestone_at</th>\n",
       "      <th>milestones</th>\n",
       "      <th>relationships</th>\n",
       "      <th>lat</th>\n",
       "      <th>lng</th>\n",
       "      <th>ROI</th>\n",
       "    </tr>\n",
       "  </thead>\n",
       "  <tbody>\n",
       "    <tr>\n",
       "      <th>0</th>\n",
       "      <td>web</td>\n",
       "      <td>operating</td>\n",
       "      <td>2005-10-17</td>\n",
       "      <td>NaN</td>\n",
       "      <td>USA</td>\n",
       "      <td>NaN</td>\n",
       "      <td>NaN</td>\n",
       "      <td>NaN</td>\n",
       "      <td>2005-10-01</td>\n",
       "      <td>2008-05-19</td>\n",
       "      <td>3.0</td>\n",
       "      <td>39750000.0</td>\n",
       "      <td>2010-09-05</td>\n",
       "      <td>2013-09-18</td>\n",
       "      <td>5.0</td>\n",
       "      <td>17.0</td>\n",
       "      <td>47.606209</td>\n",
       "      <td>-122.332071</td>\n",
       "      <td>15.5</td>\n",
       "    </tr>\n",
       "    <tr>\n",
       "      <th>1</th>\n",
       "      <td>games_video</td>\n",
       "      <td>acquired</td>\n",
       "      <td>NaN</td>\n",
       "      <td>NaN</td>\n",
       "      <td>USA</td>\n",
       "      <td>NaN</td>\n",
       "      <td>NaN</td>\n",
       "      <td>NaN</td>\n",
       "      <td>NaN</td>\n",
       "      <td>NaN</td>\n",
       "      <td>NaN</td>\n",
       "      <td>NaN</td>\n",
       "      <td>NaN</td>\n",
       "      <td>NaN</td>\n",
       "      <td>NaN</td>\n",
       "      <td>6.0</td>\n",
       "      <td>34.021122</td>\n",
       "      <td>-118.396467</td>\n",
       "      <td>NaN</td>\n",
       "    </tr>\n",
       "    <tr>\n",
       "      <th>2</th>\n",
       "      <td>games_video</td>\n",
       "      <td>acquired</td>\n",
       "      <td>NaN</td>\n",
       "      <td>NaN</td>\n",
       "      <td>USA</td>\n",
       "      <td>NaN</td>\n",
       "      <td>NaN</td>\n",
       "      <td>NaN</td>\n",
       "      <td>NaN</td>\n",
       "      <td>NaN</td>\n",
       "      <td>NaN</td>\n",
       "      <td>NaN</td>\n",
       "      <td>2003-02-01</td>\n",
       "      <td>2011-09-23</td>\n",
       "      <td>4.0</td>\n",
       "      <td>12.0</td>\n",
       "      <td>37.562992</td>\n",
       "      <td>-122.325525</td>\n",
       "      <td>NaN</td>\n",
       "    </tr>\n",
       "    <tr>\n",
       "      <th>3</th>\n",
       "      <td>network_hosting</td>\n",
       "      <td>operating</td>\n",
       "      <td>2008-07-26</td>\n",
       "      <td>NaN</td>\n",
       "      <td>NaN</td>\n",
       "      <td>NaN</td>\n",
       "      <td>NaN</td>\n",
       "      <td>NaN</td>\n",
       "      <td>NaN</td>\n",
       "      <td>NaN</td>\n",
       "      <td>NaN</td>\n",
       "      <td>NaN</td>\n",
       "      <td>NaN</td>\n",
       "      <td>NaN</td>\n",
       "      <td>NaN</td>\n",
       "      <td>NaN</td>\n",
       "      <td>NaN</td>\n",
       "      <td>NaN</td>\n",
       "      <td>NaN</td>\n",
       "    </tr>\n",
       "    <tr>\n",
       "      <th>4</th>\n",
       "      <td>games_video</td>\n",
       "      <td>operating</td>\n",
       "      <td>2008-07-26</td>\n",
       "      <td>NaN</td>\n",
       "      <td>NaN</td>\n",
       "      <td>NaN</td>\n",
       "      <td>NaN</td>\n",
       "      <td>NaN</td>\n",
       "      <td>NaN</td>\n",
       "      <td>NaN</td>\n",
       "      <td>NaN</td>\n",
       "      <td>NaN</td>\n",
       "      <td>NaN</td>\n",
       "      <td>NaN</td>\n",
       "      <td>NaN</td>\n",
       "      <td>NaN</td>\n",
       "      <td>NaN</td>\n",
       "      <td>NaN</td>\n",
       "      <td>NaN</td>\n",
       "    </tr>\n",
       "    <tr>\n",
       "      <th>...</th>\n",
       "      <td>...</td>\n",
       "      <td>...</td>\n",
       "      <td>...</td>\n",
       "      <td>...</td>\n",
       "      <td>...</td>\n",
       "      <td>...</td>\n",
       "      <td>...</td>\n",
       "      <td>...</td>\n",
       "      <td>...</td>\n",
       "      <td>...</td>\n",
       "      <td>...</td>\n",
       "      <td>...</td>\n",
       "      <td>...</td>\n",
       "      <td>...</td>\n",
       "      <td>...</td>\n",
       "      <td>...</td>\n",
       "      <td>...</td>\n",
       "      <td>...</td>\n",
       "      <td>...</td>\n",
       "    </tr>\n",
       "    <tr>\n",
       "      <th>196548</th>\n",
       "      <td>ecommerce</td>\n",
       "      <td>operating</td>\n",
       "      <td>2007-01-01</td>\n",
       "      <td>NaN</td>\n",
       "      <td>USA</td>\n",
       "      <td>NaN</td>\n",
       "      <td>NaN</td>\n",
       "      <td>NaN</td>\n",
       "      <td>NaN</td>\n",
       "      <td>NaN</td>\n",
       "      <td>NaN</td>\n",
       "      <td>NaN</td>\n",
       "      <td>2013-08-12</td>\n",
       "      <td>2013-08-12</td>\n",
       "      <td>2.0</td>\n",
       "      <td>5.0</td>\n",
       "      <td>37.774929</td>\n",
       "      <td>-122.419415</td>\n",
       "      <td>NaN</td>\n",
       "    </tr>\n",
       "    <tr>\n",
       "      <th>196549</th>\n",
       "      <td>public_relations</td>\n",
       "      <td>operating</td>\n",
       "      <td>2007-11-01</td>\n",
       "      <td>NaN</td>\n",
       "      <td>USA</td>\n",
       "      <td>NaN</td>\n",
       "      <td>NaN</td>\n",
       "      <td>NaN</td>\n",
       "      <td>2008-08-25</td>\n",
       "      <td>2008-08-25</td>\n",
       "      <td>1.0</td>\n",
       "      <td>750000.0</td>\n",
       "      <td>2013-05-01</td>\n",
       "      <td>2013-05-01</td>\n",
       "      <td>1.0</td>\n",
       "      <td>14.0</td>\n",
       "      <td>37.338208</td>\n",
       "      <td>-121.886329</td>\n",
       "      <td>NaN</td>\n",
       "    </tr>\n",
       "    <tr>\n",
       "      <th>196550</th>\n",
       "      <td>consulting</td>\n",
       "      <td>operating</td>\n",
       "      <td>1959-01-01</td>\n",
       "      <td>NaN</td>\n",
       "      <td>USA</td>\n",
       "      <td>NaN</td>\n",
       "      <td>NaN</td>\n",
       "      <td>NaN</td>\n",
       "      <td>NaN</td>\n",
       "      <td>NaN</td>\n",
       "      <td>NaN</td>\n",
       "      <td>NaN</td>\n",
       "      <td>2012-01-01</td>\n",
       "      <td>2013-10-30</td>\n",
       "      <td>3.0</td>\n",
       "      <td>44.0</td>\n",
       "      <td>38.882334</td>\n",
       "      <td>-77.171091</td>\n",
       "      <td>NaN</td>\n",
       "    </tr>\n",
       "    <tr>\n",
       "      <th>196551</th>\n",
       "      <td>search</td>\n",
       "      <td>operating</td>\n",
       "      <td>2008-07-01</td>\n",
       "      <td>NaN</td>\n",
       "      <td>USA</td>\n",
       "      <td>NaN</td>\n",
       "      <td>NaN</td>\n",
       "      <td>NaN</td>\n",
       "      <td>NaN</td>\n",
       "      <td>NaN</td>\n",
       "      <td>NaN</td>\n",
       "      <td>NaN</td>\n",
       "      <td>NaN</td>\n",
       "      <td>NaN</td>\n",
       "      <td>NaN</td>\n",
       "      <td>1.0</td>\n",
       "      <td>34.052234</td>\n",
       "      <td>-118.243685</td>\n",
       "      <td>NaN</td>\n",
       "    </tr>\n",
       "    <tr>\n",
       "      <th>196552</th>\n",
       "      <td>ecommerce</td>\n",
       "      <td>operating</td>\n",
       "      <td>2007-09-01</td>\n",
       "      <td>NaN</td>\n",
       "      <td>USA</td>\n",
       "      <td>NaN</td>\n",
       "      <td>NaN</td>\n",
       "      <td>NaN</td>\n",
       "      <td>2008-06-01</td>\n",
       "      <td>2008-06-01</td>\n",
       "      <td>1.0</td>\n",
       "      <td>475000.0</td>\n",
       "      <td>2006-07-01</td>\n",
       "      <td>2008-09-10</td>\n",
       "      <td>2.0</td>\n",
       "      <td>1.0</td>\n",
       "      <td>34.035633</td>\n",
       "      <td>-118.515590</td>\n",
       "      <td>NaN</td>\n",
       "    </tr>\n",
       "  </tbody>\n",
       "</table>\n",
       "<p>109464 rows × 19 columns</p>\n",
       "</div>"
      ],
      "text/plain": [
       "           category_code     status  founded_at closed_at country_code  \\\n",
       "0                    web  operating  2005-10-17       NaN          USA   \n",
       "1            games_video   acquired         NaN       NaN          USA   \n",
       "2            games_video   acquired         NaN       NaN          USA   \n",
       "3        network_hosting  operating  2008-07-26       NaN          NaN   \n",
       "4            games_video  operating  2008-07-26       NaN          NaN   \n",
       "...                  ...        ...         ...       ...          ...   \n",
       "196548         ecommerce  operating  2007-01-01       NaN          USA   \n",
       "196549  public_relations  operating  2007-11-01       NaN          USA   \n",
       "196550        consulting  operating  1959-01-01       NaN          USA   \n",
       "196551            search  operating  2008-07-01       NaN          USA   \n",
       "196552         ecommerce  operating  2007-09-01       NaN          USA   \n",
       "\n",
       "       first_investment_at last_investment_at  investment_rounds  \\\n",
       "0                      NaN                NaN                NaN   \n",
       "1                      NaN                NaN                NaN   \n",
       "2                      NaN                NaN                NaN   \n",
       "3                      NaN                NaN                NaN   \n",
       "4                      NaN                NaN                NaN   \n",
       "...                    ...                ...                ...   \n",
       "196548                 NaN                NaN                NaN   \n",
       "196549                 NaN                NaN                NaN   \n",
       "196550                 NaN                NaN                NaN   \n",
       "196551                 NaN                NaN                NaN   \n",
       "196552                 NaN                NaN                NaN   \n",
       "\n",
       "       first_funding_at last_funding_at  funding_rounds  funding_total_usd  \\\n",
       "0            2005-10-01      2008-05-19             3.0         39750000.0   \n",
       "1                   NaN             NaN             NaN                NaN   \n",
       "2                   NaN             NaN             NaN                NaN   \n",
       "3                   NaN             NaN             NaN                NaN   \n",
       "4                   NaN             NaN             NaN                NaN   \n",
       "...                 ...             ...             ...                ...   \n",
       "196548              NaN             NaN             NaN                NaN   \n",
       "196549       2008-08-25      2008-08-25             1.0           750000.0   \n",
       "196550              NaN             NaN             NaN                NaN   \n",
       "196551              NaN             NaN             NaN                NaN   \n",
       "196552       2008-06-01      2008-06-01             1.0           475000.0   \n",
       "\n",
       "       first_milestone_at last_milestone_at  milestones  relationships  \\\n",
       "0              2010-09-05        2013-09-18         5.0           17.0   \n",
       "1                     NaN               NaN         NaN            6.0   \n",
       "2              2003-02-01        2011-09-23         4.0           12.0   \n",
       "3                     NaN               NaN         NaN            NaN   \n",
       "4                     NaN               NaN         NaN            NaN   \n",
       "...                   ...               ...         ...            ...   \n",
       "196548         2013-08-12        2013-08-12         2.0            5.0   \n",
       "196549         2013-05-01        2013-05-01         1.0           14.0   \n",
       "196550         2012-01-01        2013-10-30         3.0           44.0   \n",
       "196551                NaN               NaN         NaN            1.0   \n",
       "196552         2006-07-01        2008-09-10         2.0            1.0   \n",
       "\n",
       "              lat         lng   ROI  \n",
       "0       47.606209 -122.332071  15.5  \n",
       "1       34.021122 -118.396467   NaN  \n",
       "2       37.562992 -122.325525   NaN  \n",
       "3             NaN         NaN   NaN  \n",
       "4             NaN         NaN   NaN  \n",
       "...           ...         ...   ...  \n",
       "196548  37.774929 -122.419415   NaN  \n",
       "196549  37.338208 -121.886329   NaN  \n",
       "196550  38.882334  -77.171091   NaN  \n",
       "196551  34.052234 -118.243685   NaN  \n",
       "196552  34.035633 -118.515590   NaN  \n",
       "\n",
       "[109464 rows x 19 columns]"
      ]
     },
     "execution_count": 13,
     "metadata": {},
     "output_type": "execute_result"
    }
   ],
   "source": [
    "# Delete duplicate values if found any.\n",
    "drop_dupe = data.drop_duplicates()\n",
    "drop_dupe"
   ]
  },
  {
   "cell_type": "code",
   "execution_count": 14,
   "id": "d7797994",
   "metadata": {},
   "outputs": [
    {
     "data": {
      "text/plain": [
       "0"
      ]
     },
     "execution_count": 14,
     "metadata": {},
     "output_type": "execute_result"
    }
   ],
   "source": [
    "# check if any left\n",
    "drop_dupe.duplicated().sum()"
   ]
  },
  {
   "cell_type": "markdown",
   "id": "1714f99e",
   "metadata": {
    "id": "1714f99e"
   },
   "source": [
    "#### 1.e. Delete those which has more than 98% of null values."
   ]
  },
  {
   "cell_type": "code",
   "execution_count": 15,
   "id": "1d886d77",
   "metadata": {},
   "outputs": [
    {
     "data": {
      "text/plain": [
       "ROI                    108738\n",
       "first_investment_at    107217\n",
       "last_investment_at     107217\n",
       "investment_rounds      107213\n",
       "closed_at              106845\n",
       "funding_total_usd       81602\n",
       "first_funding_at        77992\n",
       "last_funding_at         77992\n",
       "funding_rounds          77793\n",
       "first_milestone_at      53353\n",
       "last_milestone_at       53353\n",
       "milestones              53353\n",
       "relationships           34403\n",
       "lat                     28363\n",
       "lng                     28363\n",
       "founded_at              26913\n",
       "country_code            24870\n",
       "category_code           12230\n",
       "status                      0\n",
       "dtype: int64"
      ]
     },
     "execution_count": 15,
     "metadata": {},
     "output_type": "execute_result"
    }
   ],
   "source": [
    "drop_dupe.isnull().sum().sort_values(ascending=False)"
   ]
  },
  {
   "cell_type": "code",
   "execution_count": 16,
   "id": "68150ac6",
   "metadata": {},
   "outputs": [
    {
     "data": {
      "text/plain": [
       "ROI                    99.336768\n",
       "first_investment_at    97.947270\n",
       "last_investment_at     97.947270\n",
       "investment_rounds      97.943616\n",
       "closed_at              97.607433\n",
       "funding_total_usd      74.546883\n",
       "first_funding_at       71.248995\n",
       "last_funding_at        71.248995\n",
       "funding_rounds         71.067200\n",
       "first_milestone_at     48.740225\n",
       "last_milestone_at      48.740225\n",
       "milestones             48.740225\n",
       "relationships          31.428598\n",
       "lat                    25.910802\n",
       "lng                    25.910802\n",
       "founded_at             24.586165\n",
       "country_code           22.719798\n",
       "category_code          11.172623\n",
       "status                  0.000000\n",
       "dtype: float64"
      ]
     },
     "execution_count": 16,
     "metadata": {},
     "output_type": "execute_result"
    }
   ],
   "source": [
    "(drop_dupe.isnull().sum()/drop_dupe.shape[0]*100).sort_values(ascending=False)"
   ]
  },
  {
   "cell_type": "code",
   "execution_count": 17,
   "id": "82200e57",
   "metadata": {
    "id": "82200e57"
   },
   "outputs": [],
   "source": [
    "#  Since we can see only nan values so et's check how much of roi has nan values & it has more than 96% of null values, \n",
    "    # it would not make sense to impute these data. So, lets drop it.\n",
    "del drop_dupe['ROI']\n"
   ]
  },
  {
   "cell_type": "code",
   "execution_count": 18,
   "id": "21df1173",
   "metadata": {},
   "outputs": [
    {
     "data": {
      "text/plain": [
       "(109464, 18)"
      ]
     },
     "execution_count": 18,
     "metadata": {},
     "output_type": "execute_result"
    }
   ],
   "source": [
    "drop_dupe.shape"
   ]
  },
  {
   "cell_type": "code",
   "execution_count": 19,
   "id": "eff123b9",
   "metadata": {
    "id": "eff123b9"
   },
   "outputs": [],
   "source": [
    "# # Since we can see it has more than 96% of null values, it would not make sense to impute these data. So, lets drop it.\n",
    "#Type your code here!"
   ]
  },
  {
   "cell_type": "markdown",
   "id": "4666865e",
   "metadata": {
    "id": "4666865e"
   },
   "source": [
    "#### 2.a. Delete instances with missing values for 'status', 'country_code', 'category_code' and 'founded_at'.\n",
    "    (Since these are the type of data where adding value via imputation will create wrong pattern only)"
   ]
  },
  {
   "cell_type": "code",
   "execution_count": null,
   "id": "75e7e95e",
   "metadata": {},
   "outputs": [],
   "source": []
  },
  {
   "cell_type": "code",
   "execution_count": 20,
   "id": "bcc03c97",
   "metadata": {
    "id": "bcc03c97"
   },
   "outputs": [],
   "source": [
    "drop_dupe.fillna(method='bfill', axis=0, inplace=True)"
   ]
  },
  {
   "cell_type": "code",
   "execution_count": 21,
   "id": "5bd917f9",
   "metadata": {
    "id": "5bd917f9",
    "scrolled": true
   },
   "outputs": [],
   "source": [
    "#Type your code here!"
   ]
  },
  {
   "cell_type": "code",
   "execution_count": 22,
   "id": "52e2c90e",
   "metadata": {
    "id": "52e2c90e",
    "scrolled": true
   },
   "outputs": [
    {
     "data": {
      "text/plain": [
       "category_code           0\n",
       "status                  0\n",
       "founded_at              0\n",
       "closed_at              11\n",
       "country_code            0\n",
       "first_investment_at    33\n",
       "last_investment_at     33\n",
       "investment_rounds      33\n",
       "first_funding_at        0\n",
       "last_funding_at         0\n",
       "funding_rounds          0\n",
       "funding_total_usd       0\n",
       "first_milestone_at      0\n",
       "last_milestone_at       0\n",
       "milestones              0\n",
       "relationships           0\n",
       "lat                     0\n",
       "lng                     0\n",
       "dtype: int64"
      ]
     },
     "execution_count": 22,
     "metadata": {},
     "output_type": "execute_result"
    }
   ],
   "source": [
    "# Since we can see only nan values so et's check how much of rows has nan values.\n",
    "drop_dupe.isnull().sum()"
   ]
  },
  {
   "cell_type": "code",
   "execution_count": 23,
   "id": "00a09145",
   "metadata": {
    "id": "00a09145"
   },
   "outputs": [
    {
     "data": {
      "text/html": [
       "<div>\n",
       "<style scoped>\n",
       "    .dataframe tbody tr th:only-of-type {\n",
       "        vertical-align: middle;\n",
       "    }\n",
       "\n",
       "    .dataframe tbody tr th {\n",
       "        vertical-align: top;\n",
       "    }\n",
       "\n",
       "    .dataframe thead th {\n",
       "        text-align: right;\n",
       "    }\n",
       "</style>\n",
       "<table border=\"1\" class=\"dataframe\">\n",
       "  <thead>\n",
       "    <tr style=\"text-align: right;\">\n",
       "      <th></th>\n",
       "      <th>category_code</th>\n",
       "      <th>status</th>\n",
       "      <th>founded_at</th>\n",
       "      <th>closed_at</th>\n",
       "      <th>country_code</th>\n",
       "      <th>first_investment_at</th>\n",
       "      <th>last_investment_at</th>\n",
       "      <th>investment_rounds</th>\n",
       "      <th>first_funding_at</th>\n",
       "      <th>last_funding_at</th>\n",
       "      <th>funding_rounds</th>\n",
       "      <th>funding_total_usd</th>\n",
       "      <th>first_milestone_at</th>\n",
       "      <th>last_milestone_at</th>\n",
       "      <th>milestones</th>\n",
       "      <th>relationships</th>\n",
       "      <th>lat</th>\n",
       "      <th>lng</th>\n",
       "    </tr>\n",
       "  </thead>\n",
       "  <tbody>\n",
       "    <tr>\n",
       "      <th>0</th>\n",
       "      <td>web</td>\n",
       "      <td>operating</td>\n",
       "      <td>2005-10-17</td>\n",
       "      <td>2010-01-01</td>\n",
       "      <td>USA</td>\n",
       "      <td>2012-12-27</td>\n",
       "      <td>2013-09-24</td>\n",
       "      <td>1.0</td>\n",
       "      <td>2005-10-01</td>\n",
       "      <td>2008-05-19</td>\n",
       "      <td>3.0</td>\n",
       "      <td>39750000.0</td>\n",
       "      <td>2010-09-05</td>\n",
       "      <td>2013-09-18</td>\n",
       "      <td>5.0</td>\n",
       "      <td>17.0</td>\n",
       "      <td>47.606209</td>\n",
       "      <td>-122.332071</td>\n",
       "    </tr>\n",
       "    <tr>\n",
       "      <th>1</th>\n",
       "      <td>games_video</td>\n",
       "      <td>acquired</td>\n",
       "      <td>2008-07-26</td>\n",
       "      <td>2010-01-01</td>\n",
       "      <td>USA</td>\n",
       "      <td>2012-12-27</td>\n",
       "      <td>2013-09-24</td>\n",
       "      <td>1.0</td>\n",
       "      <td>2008-02-26</td>\n",
       "      <td>2008-02-26</td>\n",
       "      <td>1.0</td>\n",
       "      <td>5000000.0</td>\n",
       "      <td>2003-02-01</td>\n",
       "      <td>2011-09-23</td>\n",
       "      <td>4.0</td>\n",
       "      <td>6.0</td>\n",
       "      <td>34.021122</td>\n",
       "      <td>-118.396467</td>\n",
       "    </tr>\n",
       "    <tr>\n",
       "      <th>2</th>\n",
       "      <td>games_video</td>\n",
       "      <td>acquired</td>\n",
       "      <td>2008-07-26</td>\n",
       "      <td>2010-01-01</td>\n",
       "      <td>USA</td>\n",
       "      <td>2012-12-27</td>\n",
       "      <td>2013-09-24</td>\n",
       "      <td>1.0</td>\n",
       "      <td>2008-02-26</td>\n",
       "      <td>2008-02-26</td>\n",
       "      <td>1.0</td>\n",
       "      <td>5000000.0</td>\n",
       "      <td>2003-02-01</td>\n",
       "      <td>2011-09-23</td>\n",
       "      <td>4.0</td>\n",
       "      <td>12.0</td>\n",
       "      <td>37.562992</td>\n",
       "      <td>-122.325525</td>\n",
       "    </tr>\n",
       "    <tr>\n",
       "      <th>3</th>\n",
       "      <td>network_hosting</td>\n",
       "      <td>operating</td>\n",
       "      <td>2008-07-26</td>\n",
       "      <td>2010-01-01</td>\n",
       "      <td>MAR</td>\n",
       "      <td>2012-12-27</td>\n",
       "      <td>2013-09-24</td>\n",
       "      <td>1.0</td>\n",
       "      <td>2008-02-26</td>\n",
       "      <td>2008-02-26</td>\n",
       "      <td>1.0</td>\n",
       "      <td>5000000.0</td>\n",
       "      <td>2011-06-20</td>\n",
       "      <td>2011-06-20</td>\n",
       "      <td>1.0</td>\n",
       "      <td>2.0</td>\n",
       "      <td>30.427755</td>\n",
       "      <td>-9.598107</td>\n",
       "    </tr>\n",
       "    <tr>\n",
       "      <th>4</th>\n",
       "      <td>games_video</td>\n",
       "      <td>operating</td>\n",
       "      <td>2008-07-26</td>\n",
       "      <td>2010-01-01</td>\n",
       "      <td>MAR</td>\n",
       "      <td>2012-12-27</td>\n",
       "      <td>2013-09-24</td>\n",
       "      <td>1.0</td>\n",
       "      <td>2008-02-26</td>\n",
       "      <td>2008-02-26</td>\n",
       "      <td>1.0</td>\n",
       "      <td>5000000.0</td>\n",
       "      <td>2011-06-20</td>\n",
       "      <td>2011-06-20</td>\n",
       "      <td>1.0</td>\n",
       "      <td>2.0</td>\n",
       "      <td>30.427755</td>\n",
       "      <td>-9.598107</td>\n",
       "    </tr>\n",
       "  </tbody>\n",
       "</table>\n",
       "</div>"
      ],
      "text/plain": [
       "     category_code     status  founded_at   closed_at country_code  \\\n",
       "0              web  operating  2005-10-17  2010-01-01          USA   \n",
       "1      games_video   acquired  2008-07-26  2010-01-01          USA   \n",
       "2      games_video   acquired  2008-07-26  2010-01-01          USA   \n",
       "3  network_hosting  operating  2008-07-26  2010-01-01          MAR   \n",
       "4      games_video  operating  2008-07-26  2010-01-01          MAR   \n",
       "\n",
       "  first_investment_at last_investment_at  investment_rounds first_funding_at  \\\n",
       "0          2012-12-27         2013-09-24                1.0       2005-10-01   \n",
       "1          2012-12-27         2013-09-24                1.0       2008-02-26   \n",
       "2          2012-12-27         2013-09-24                1.0       2008-02-26   \n",
       "3          2012-12-27         2013-09-24                1.0       2008-02-26   \n",
       "4          2012-12-27         2013-09-24                1.0       2008-02-26   \n",
       "\n",
       "  last_funding_at  funding_rounds  funding_total_usd first_milestone_at  \\\n",
       "0      2008-05-19             3.0         39750000.0         2010-09-05   \n",
       "1      2008-02-26             1.0          5000000.0         2003-02-01   \n",
       "2      2008-02-26             1.0          5000000.0         2003-02-01   \n",
       "3      2008-02-26             1.0          5000000.0         2011-06-20   \n",
       "4      2008-02-26             1.0          5000000.0         2011-06-20   \n",
       "\n",
       "  last_milestone_at  milestones  relationships        lat         lng  \n",
       "0        2013-09-18         5.0           17.0  47.606209 -122.332071  \n",
       "1        2011-09-23         4.0            6.0  34.021122 -118.396467  \n",
       "2        2011-09-23         4.0           12.0  37.562992 -122.325525  \n",
       "3        2011-06-20         1.0            2.0  30.427755   -9.598107  \n",
       "4        2011-06-20         1.0            2.0  30.427755   -9.598107  "
      ]
     },
     "execution_count": 23,
     "metadata": {},
     "output_type": "execute_result"
    }
   ],
   "source": [
    "drop_dupe.head()"
   ]
  },
  {
   "cell_type": "markdown",
   "id": "2452f22e",
   "metadata": {
    "id": "2452f22e"
   },
   "source": [
    "#### 2.b. Delete outliers for 'funding_total_usd' and 'funding_rounds'."
   ]
  },
  {
   "cell_type": "code",
   "execution_count": 24,
   "id": "a7baa120",
   "metadata": {
    "id": "a7baa120"
   },
   "outputs": [
    {
     "data": {
      "text/plain": [
       "<AxesSubplot:xlabel='funding_total_usd'>"
      ]
     },
     "execution_count": 24,
     "metadata": {},
     "output_type": "execute_result"
    },
    {
     "data": {
      "image/png": "[encoded data removed]",
      "text/plain": [
       "<Figure size 432x288 with 1 Axes>"
      ]
     },
     "metadata": {},
     "output_type": "display_data"
    }
   ],
   "source": [
    "sns.boxplot(drop_dupe['funding_total_usd'])"
   ]
  },
  {
   "cell_type": "code",
   "execution_count": 25,
   "id": "e643c501",
   "metadata": {},
   "outputs": [
    {
     "data": {
      "text/plain": [
       "<AxesSubplot:xlabel='funding_rounds'>"
      ]
     },
     "execution_count": 25,
     "metadata": {},
     "output_type": "execute_result"
    },
    {
     "data": {
      "image/png": "[encoded data removed]",
      "text/plain": [
       "<Figure size 432x288 with 1 Axes>"
      ]
     },
     "metadata": {},
     "output_type": "display_data"
    }
   ],
   "source": [
    "sns.boxplot(drop_dupe['funding_rounds'])"
   ]
  },
  {
   "cell_type": "code",
   "execution_count": 26,
   "id": "4b80d776",
   "metadata": {
    "id": "4b80d776"
   },
   "outputs": [],
   "source": [
    "#Type your code here!"
   ]
  },
  {
   "cell_type": "markdown",
   "id": "3d5d33d2",
   "metadata": {
    "id": "3d5d33d2"
   },
   "source": [
    "### Summary:\n",
    "If you can see the outlier in both 'funding_total_usd' and 'funding_rounds'. So, let's find them and drop it.\n",
    "\n",
    "    1. Find the IQR (Interquartile Range)\n",
    "    2. Find the upper and lower limit\n",
    "    3. Find outliers\n",
    "    4. Drop them\n",
    "    5. Compare the plots after trimming \n"
   ]
  },
  {
   "cell_type": "markdown",
   "id": "0d158e60",
   "metadata": {
    "id": "0d158e60"
   },
   "source": [
    "#### 2.b.1. Find the IQR"
   ]
  },
  {
   "cell_type": "code",
   "execution_count": 27,
   "id": "61ab4f32",
   "metadata": {
    "id": "61ab4f32"
   },
   "outputs": [],
   "source": [
    "# For funding_total_usd\n",
    "ft_q1 = drop_dupe['funding_total_usd'].quantile(0.25)\n",
    "ft_q3 = drop_dupe['funding_total_usd'].quantile(0.75)\n",
    "iqr_1 = ft_q3-ft_q1\n",
    "\n",
    "# For funding_rounds\n",
    "fr_q1 = drop_dupe['funding_rounds'].quantile(0.25)\n",
    "fr_q3 = drop_dupe['funding_rounds'].quantile(0.75)\n",
    "iqr_2 = fr_q3-fr_q1"
   ]
  },
  {
   "cell_type": "code",
   "execution_count": 28,
   "id": "6aea8fd9",
   "metadata": {},
   "outputs": [
    {
     "data": {
      "text/plain": [
       "(471700.0, 10220000.0, 9748300.0)"
      ]
     },
     "execution_count": 28,
     "metadata": {},
     "output_type": "execute_result"
    }
   ],
   "source": [
    "ft_q1, ft_q3, iqr_1"
   ]
  },
  {
   "cell_type": "code",
   "execution_count": 29,
   "id": "948f3e98",
   "metadata": {},
   "outputs": [
    {
     "data": {
      "text/plain": [
       "(1.0, 2.0, 1.0)"
      ]
     },
     "execution_count": 29,
     "metadata": {},
     "output_type": "execute_result"
    }
   ],
   "source": [
    "fr_q1, fr_q3, iqr_2"
   ]
  },
  {
   "cell_type": "markdown",
   "id": "5d0d9e4a",
   "metadata": {
    "id": "5d0d9e4a"
   },
   "source": [
    "#### 2.b.1. Find the Upper and Lower limit"
   ]
  },
  {
   "cell_type": "code",
   "execution_count": 30,
   "id": "3d5b2a12",
   "metadata": {
    "id": "3d5b2a12"
   },
   "outputs": [],
   "source": [
    "# For funding_total_usd\n",
    "upper_limit_ft = ft_q3 + (1.5 * iqr_1)\n",
    "lower_limit_ft = ft_q1 - (1.5 * iqr_1)\n",
    "\n",
    "# # For funding_rounds\n",
    "upper_limit_fr = fr_q3 + (1.5 * iqr_2)\n",
    "lower_limit_fr = fr_q1 - (1.5 * iqr_2)"
   ]
  },
  {
   "cell_type": "code",
   "execution_count": 31,
   "id": "25e7493e",
   "metadata": {},
   "outputs": [
    {
     "name": "stdout",
     "output_type": "stream",
     "text": [
      "upper limit of total fund : 24842450.0\n",
      "lower limit of total fund : -14150750.0\n"
     ]
    }
   ],
   "source": [
    "print('upper limit of total fund :', upper_limit_ft)\n",
    "print('lower limit of total fund :', lower_limit_ft)"
   ]
  },
  {
   "cell_type": "code",
   "execution_count": 32,
   "id": "9c05ee5d",
   "metadata": {},
   "outputs": [
    {
     "name": "stdout",
     "output_type": "stream",
     "text": [
      "upper limit of fund round : 3.5\n",
      "lower limit of fund round : -0.5\n"
     ]
    }
   ],
   "source": [
    "print('upper limit of fund round :', upper_limit_fr)\n",
    "print('lower limit of fund round :', lower_limit_fr)"
   ]
  },
  {
   "cell_type": "markdown",
   "id": "66dc08d6",
   "metadata": {
    "id": "66dc08d6"
   },
   "source": [
    "#### 2.b.1.  Find outliers"
   ]
  },
  {
   "cell_type": "code",
   "execution_count": 33,
   "id": "3c532ce4",
   "metadata": {},
   "outputs": [
    {
     "name": "stdout",
     "output_type": "stream",
     "text": [
      "old data : 109464\n",
      "new data : 14524\n"
     ]
    }
   ],
   "source": [
    "# For funding_total_usd(capping)\n",
    "rem_ot1 = drop_dupe.loc[(drop_dupe['funding_total_usd'] > upper_limit_ft) | (drop_dupe['funding_total_usd']< lower_limit_ft)]\n",
    "print('old data :', len(drop_dupe))\n",
    "print('new data :', len(rem_ot1))\n",
    "\n"
   ]
  },
  {
   "cell_type": "code",
   "execution_count": 34,
   "id": "31483330",
   "metadata": {},
   "outputs": [
    {
     "name": "stdout",
     "output_type": "stream",
     "text": [
      "old data : 109464\n",
      "new data : 8389\n"
     ]
    }
   ],
   "source": [
    "\n",
    "# For funding_rounds\n",
    "rem_ot2 = drop_dupe.loc[(drop_dupe['funding_rounds'] > upper_limit_fr) | (drop_dupe['funding_rounds']< lower_limit_fr)]\n",
    "print('old data :', len(drop_dupe))\n",
    "print('new data :', len(rem_ot2))"
   ]
  },
  {
   "cell_type": "markdown",
   "id": "9b140213",
   "metadata": {
    "id": "9b140213"
   },
   "source": [
    "#### 2.b.1. Drop the outliers"
   ]
  },
  {
   "cell_type": "code",
   "execution_count": 35,
   "id": "5a048db8",
   "metadata": {
    "id": "5a048db8"
   },
   "outputs": [],
   "source": [
    "# For funding_total_usd\n",
    "\n",
    "rem_ot1 = drop_dupe.copy()\n",
    "rem_ot1.loc[(rem_ot1['funding_total_usd']>upper_limit_ft), 'funding_total_usd'] = upper_limit_ft\n",
    "rem_ot1.loc[(rem_ot1['funding_total_usd']<lower_limit_ft), 'funding_total_usd'] = lower_limit_ft\n",
    "  "
   ]
  },
  {
   "cell_type": "code",
   "execution_count": 36,
   "id": "674fad2c",
   "metadata": {},
   "outputs": [
    {
     "data": {
      "text/plain": [
       "<AxesSubplot:xlabel='funding_total_usd'>"
      ]
     },
     "execution_count": 36,
     "metadata": {},
     "output_type": "execute_result"
    },
    {
     "data": {
      "image/png": "[encoded data removed]",
      "text/plain": [
       "<Figure size 432x288 with 1 Axes>"
      ]
     },
     "metadata": {},
     "output_type": "display_data"
    }
   ],
   "source": [
    "sns.boxplot(rem_ot1['funding_total_usd'])"
   ]
  },
  {
   "cell_type": "code",
   "execution_count": 37,
   "id": "b3a3c44c",
   "metadata": {},
   "outputs": [],
   "source": [
    "# For funding_rounds\n",
    "\n",
    "rem_ot2 = drop_dupe.copy()\n",
    "rem_ot2.loc[(rem_ot2['funding_rounds']>upper_limit_fr), 'funding_rounds'] = upper_limit_fr\n",
    "rem_ot2.loc[(rem_ot2['funding_rounds']<lower_limit_fr), 'funding_rounds'] = lower_limit_fr"
   ]
  },
  {
   "cell_type": "code",
   "execution_count": 38,
   "id": "f9640e02",
   "metadata": {},
   "outputs": [
    {
     "data": {
      "text/plain": [
       "<AxesSubplot:xlabel='funding_rounds'>"
      ]
     },
     "execution_count": 38,
     "metadata": {},
     "output_type": "execute_result"
    },
    {
     "data": {
      "image/png": "[encoded data removed]",
      "text/plain": [
       "<Figure size 432x288 with 1 Axes>"
      ]
     },
     "metadata": {},
     "output_type": "display_data"
    }
   ],
   "source": [
    "sns.boxplot(rem_ot2['funding_rounds'])"
   ]
  },
  {
   "cell_type": "markdown",
   "id": "14676413",
   "metadata": {
    "id": "14676413"
   },
   "source": [
    "#### 2.c. Delete contradictory (mutually opposed or inconsistent data).\n"
   ]
  },
  {
   "cell_type": "code",
   "execution_count": 39,
   "id": "09a8c051",
   "metadata": {
    "id": "09a8c051"
   },
   "outputs": [],
   "source": [
    "# Since we have not imputed the datasets in closed_at yet, we will check it later on."
   ]
  },
  {
   "cell_type": "markdown",
   "id": "cee3dc2b",
   "metadata": {
    "id": "cee3dc2b"
   },
   "source": [
    "# B. Date Transformation\n",
    "    It can be divided into two successive phases.\n",
    "   ## 1. Changes in original data\n",
    "        a. Convert founded_at, closed_at, first_funded_at, last_funding_at, first_milestone_at ,\n",
    "           last_milestone_at to years.\n",
    "        b. Generalize the categorical data i.e. category_code, status and category_code.\n",
    "   ## 2. Create new variables\n",
    "        a. Create new feature isClosed from closed_at and status.\n",
    "        b. Create new feature 'active_days'"
   ]
  },
  {
   "cell_type": "markdown",
   "id": "933f43e1",
   "metadata": {
    "id": "933f43e1"
   },
   "source": [
    "#### 1.a. Convert founded_at, closed_at, first_funded_at, last_funding_at, first_milestone_at , last_milestone_at to years."
   ]
  },
  {
   "cell_type": "code",
   "execution_count": 47,
   "id": "281ba13e",
   "metadata": {
    "id": "281ba13e"
   },
   "outputs": [
    {
     "data": {
      "text/html": [
       "<div>\n",
       "<style scoped>\n",
       "    .dataframe tbody tr th:only-of-type {\n",
       "        vertical-align: middle;\n",
       "    }\n",
       "\n",
       "    .dataframe tbody tr th {\n",
       "        vertical-align: top;\n",
       "    }\n",
       "\n",
       "    .dataframe thead th {\n",
       "        text-align: right;\n",
       "    }\n",
       "</style>\n",
       "<table border=\"1\" class=\"dataframe\">\n",
       "  <thead>\n",
       "    <tr style=\"text-align: right;\">\n",
       "      <th></th>\n",
       "      <th>category_code</th>\n",
       "      <th>status</th>\n",
       "      <th>founded_at</th>\n",
       "      <th>closed_at</th>\n",
       "      <th>country_code</th>\n",
       "      <th>first_investment_at</th>\n",
       "      <th>last_investment_at</th>\n",
       "      <th>investment_rounds</th>\n",
       "      <th>first_funding_at</th>\n",
       "      <th>last_funding_at</th>\n",
       "      <th>funding_rounds</th>\n",
       "      <th>funding_total_usd</th>\n",
       "      <th>first_milestone_at</th>\n",
       "      <th>last_milestone_at</th>\n",
       "      <th>milestones</th>\n",
       "      <th>relationships</th>\n",
       "      <th>lat</th>\n",
       "      <th>lng</th>\n",
       "    </tr>\n",
       "  </thead>\n",
       "  <tbody>\n",
       "    <tr>\n",
       "      <th>0</th>\n",
       "      <td>web</td>\n",
       "      <td>operating</td>\n",
       "      <td>2005</td>\n",
       "      <td>2010</td>\n",
       "      <td>USA</td>\n",
       "      <td>2012-12-27</td>\n",
       "      <td>2013-09-24</td>\n",
       "      <td>1.0</td>\n",
       "      <td>2005</td>\n",
       "      <td>2008</td>\n",
       "      <td>3.0</td>\n",
       "      <td>39750000.0</td>\n",
       "      <td>2010</td>\n",
       "      <td>2013-09-18</td>\n",
       "      <td>1970</td>\n",
       "      <td>17.0</td>\n",
       "      <td>47.606209</td>\n",
       "      <td>-122.332071</td>\n",
       "    </tr>\n",
       "    <tr>\n",
       "      <th>1</th>\n",
       "      <td>games_video</td>\n",
       "      <td>acquired</td>\n",
       "      <td>2008</td>\n",
       "      <td>2010</td>\n",
       "      <td>USA</td>\n",
       "      <td>2012-12-27</td>\n",
       "      <td>2013-09-24</td>\n",
       "      <td>1.0</td>\n",
       "      <td>2008</td>\n",
       "      <td>2008</td>\n",
       "      <td>1.0</td>\n",
       "      <td>5000000.0</td>\n",
       "      <td>2003</td>\n",
       "      <td>2011-09-23</td>\n",
       "      <td>1970</td>\n",
       "      <td>6.0</td>\n",
       "      <td>34.021122</td>\n",
       "      <td>-118.396467</td>\n",
       "    </tr>\n",
       "    <tr>\n",
       "      <th>2</th>\n",
       "      <td>games_video</td>\n",
       "      <td>acquired</td>\n",
       "      <td>2008</td>\n",
       "      <td>2010</td>\n",
       "      <td>USA</td>\n",
       "      <td>2012-12-27</td>\n",
       "      <td>2013-09-24</td>\n",
       "      <td>1.0</td>\n",
       "      <td>2008</td>\n",
       "      <td>2008</td>\n",
       "      <td>1.0</td>\n",
       "      <td>5000000.0</td>\n",
       "      <td>2003</td>\n",
       "      <td>2011-09-23</td>\n",
       "      <td>1970</td>\n",
       "      <td>12.0</td>\n",
       "      <td>37.562992</td>\n",
       "      <td>-122.325525</td>\n",
       "    </tr>\n",
       "    <tr>\n",
       "      <th>3</th>\n",
       "      <td>network_hosting</td>\n",
       "      <td>operating</td>\n",
       "      <td>2008</td>\n",
       "      <td>2010</td>\n",
       "      <td>MAR</td>\n",
       "      <td>2012-12-27</td>\n",
       "      <td>2013-09-24</td>\n",
       "      <td>1.0</td>\n",
       "      <td>2008</td>\n",
       "      <td>2008</td>\n",
       "      <td>1.0</td>\n",
       "      <td>5000000.0</td>\n",
       "      <td>2011</td>\n",
       "      <td>2011-06-20</td>\n",
       "      <td>1970</td>\n",
       "      <td>2.0</td>\n",
       "      <td>30.427755</td>\n",
       "      <td>-9.598107</td>\n",
       "    </tr>\n",
       "    <tr>\n",
       "      <th>4</th>\n",
       "      <td>games_video</td>\n",
       "      <td>operating</td>\n",
       "      <td>2008</td>\n",
       "      <td>2010</td>\n",
       "      <td>MAR</td>\n",
       "      <td>2012-12-27</td>\n",
       "      <td>2013-09-24</td>\n",
       "      <td>1.0</td>\n",
       "      <td>2008</td>\n",
       "      <td>2008</td>\n",
       "      <td>1.0</td>\n",
       "      <td>5000000.0</td>\n",
       "      <td>2011</td>\n",
       "      <td>2011-06-20</td>\n",
       "      <td>1970</td>\n",
       "      <td>2.0</td>\n",
       "      <td>30.427755</td>\n",
       "      <td>-9.598107</td>\n",
       "    </tr>\n",
       "    <tr>\n",
       "      <th>...</th>\n",
       "      <td>...</td>\n",
       "      <td>...</td>\n",
       "      <td>...</td>\n",
       "      <td>...</td>\n",
       "      <td>...</td>\n",
       "      <td>...</td>\n",
       "      <td>...</td>\n",
       "      <td>...</td>\n",
       "      <td>...</td>\n",
       "      <td>...</td>\n",
       "      <td>...</td>\n",
       "      <td>...</td>\n",
       "      <td>...</td>\n",
       "      <td>...</td>\n",
       "      <td>...</td>\n",
       "      <td>...</td>\n",
       "      <td>...</td>\n",
       "      <td>...</td>\n",
       "    </tr>\n",
       "    <tr>\n",
       "      <th>196548</th>\n",
       "      <td>ecommerce</td>\n",
       "      <td>operating</td>\n",
       "      <td>2007</td>\n",
       "      <td>NaN</td>\n",
       "      <td>USA</td>\n",
       "      <td>NaN</td>\n",
       "      <td>NaN</td>\n",
       "      <td>NaN</td>\n",
       "      <td>2008</td>\n",
       "      <td>2008</td>\n",
       "      <td>1.0</td>\n",
       "      <td>750000.0</td>\n",
       "      <td>2013</td>\n",
       "      <td>2013-08-12</td>\n",
       "      <td>1970</td>\n",
       "      <td>5.0</td>\n",
       "      <td>37.774929</td>\n",
       "      <td>-122.419415</td>\n",
       "    </tr>\n",
       "    <tr>\n",
       "      <th>196549</th>\n",
       "      <td>public_relations</td>\n",
       "      <td>operating</td>\n",
       "      <td>2007</td>\n",
       "      <td>NaN</td>\n",
       "      <td>USA</td>\n",
       "      <td>NaN</td>\n",
       "      <td>NaN</td>\n",
       "      <td>NaN</td>\n",
       "      <td>2008</td>\n",
       "      <td>2008</td>\n",
       "      <td>1.0</td>\n",
       "      <td>750000.0</td>\n",
       "      <td>2013</td>\n",
       "      <td>2013-05-01</td>\n",
       "      <td>1970</td>\n",
       "      <td>14.0</td>\n",
       "      <td>37.338208</td>\n",
       "      <td>-121.886329</td>\n",
       "    </tr>\n",
       "    <tr>\n",
       "      <th>196550</th>\n",
       "      <td>consulting</td>\n",
       "      <td>operating</td>\n",
       "      <td>1959</td>\n",
       "      <td>NaN</td>\n",
       "      <td>USA</td>\n",
       "      <td>NaN</td>\n",
       "      <td>NaN</td>\n",
       "      <td>NaN</td>\n",
       "      <td>2008</td>\n",
       "      <td>2008</td>\n",
       "      <td>1.0</td>\n",
       "      <td>475000.0</td>\n",
       "      <td>2012</td>\n",
       "      <td>2013-10-30</td>\n",
       "      <td>1970</td>\n",
       "      <td>44.0</td>\n",
       "      <td>38.882334</td>\n",
       "      <td>-77.171091</td>\n",
       "    </tr>\n",
       "    <tr>\n",
       "      <th>196551</th>\n",
       "      <td>search</td>\n",
       "      <td>operating</td>\n",
       "      <td>2008</td>\n",
       "      <td>NaN</td>\n",
       "      <td>USA</td>\n",
       "      <td>NaN</td>\n",
       "      <td>NaN</td>\n",
       "      <td>NaN</td>\n",
       "      <td>2008</td>\n",
       "      <td>2008</td>\n",
       "      <td>1.0</td>\n",
       "      <td>475000.0</td>\n",
       "      <td>2006</td>\n",
       "      <td>2008-09-10</td>\n",
       "      <td>1970</td>\n",
       "      <td>1.0</td>\n",
       "      <td>34.052234</td>\n",
       "      <td>-118.243685</td>\n",
       "    </tr>\n",
       "    <tr>\n",
       "      <th>196552</th>\n",
       "      <td>ecommerce</td>\n",
       "      <td>operating</td>\n",
       "      <td>2007</td>\n",
       "      <td>NaN</td>\n",
       "      <td>USA</td>\n",
       "      <td>NaN</td>\n",
       "      <td>NaN</td>\n",
       "      <td>NaN</td>\n",
       "      <td>2008</td>\n",
       "      <td>2008</td>\n",
       "      <td>1.0</td>\n",
       "      <td>475000.0</td>\n",
       "      <td>2006</td>\n",
       "      <td>2008-09-10</td>\n",
       "      <td>1970</td>\n",
       "      <td>1.0</td>\n",
       "      <td>34.035633</td>\n",
       "      <td>-118.515590</td>\n",
       "    </tr>\n",
       "  </tbody>\n",
       "</table>\n",
       "<p>109464 rows × 18 columns</p>\n",
       "</div>"
      ],
      "text/plain": [
       "           category_code     status founded_at closed_at country_code  \\\n",
       "0                    web  operating       2005      2010          USA   \n",
       "1            games_video   acquired       2008      2010          USA   \n",
       "2            games_video   acquired       2008      2010          USA   \n",
       "3        network_hosting  operating       2008      2010          MAR   \n",
       "4            games_video  operating       2008      2010          MAR   \n",
       "...                  ...        ...        ...       ...          ...   \n",
       "196548         ecommerce  operating       2007       NaN          USA   \n",
       "196549  public_relations  operating       2007       NaN          USA   \n",
       "196550        consulting  operating       1959       NaN          USA   \n",
       "196551            search  operating       2008       NaN          USA   \n",
       "196552         ecommerce  operating       2007       NaN          USA   \n",
       "\n",
       "       first_investment_at last_investment_at  investment_rounds  \\\n",
       "0               2012-12-27         2013-09-24                1.0   \n",
       "1               2012-12-27         2013-09-24                1.0   \n",
       "2               2012-12-27         2013-09-24                1.0   \n",
       "3               2012-12-27         2013-09-24                1.0   \n",
       "4               2012-12-27         2013-09-24                1.0   \n",
       "...                    ...                ...                ...   \n",
       "196548                 NaN                NaN                NaN   \n",
       "196549                 NaN                NaN                NaN   \n",
       "196550                 NaN                NaN                NaN   \n",
       "196551                 NaN                NaN                NaN   \n",
       "196552                 NaN                NaN                NaN   \n",
       "\n",
       "       first_funding_at last_funding_at  funding_rounds  funding_total_usd  \\\n",
       "0                  2005            2008             3.0         39750000.0   \n",
       "1                  2008            2008             1.0          5000000.0   \n",
       "2                  2008            2008             1.0          5000000.0   \n",
       "3                  2008            2008             1.0          5000000.0   \n",
       "4                  2008            2008             1.0          5000000.0   \n",
       "...                 ...             ...             ...                ...   \n",
       "196548             2008            2008             1.0           750000.0   \n",
       "196549             2008            2008             1.0           750000.0   \n",
       "196550             2008            2008             1.0           475000.0   \n",
       "196551             2008            2008             1.0           475000.0   \n",
       "196552             2008            2008             1.0           475000.0   \n",
       "\n",
       "       first_milestone_at last_milestone_at milestones  relationships  \\\n",
       "0                    2010        2013-09-18       1970           17.0   \n",
       "1                    2003        2011-09-23       1970            6.0   \n",
       "2                    2003        2011-09-23       1970           12.0   \n",
       "3                    2011        2011-06-20       1970            2.0   \n",
       "4                    2011        2011-06-20       1970            2.0   \n",
       "...                   ...               ...        ...            ...   \n",
       "196548               2013        2013-08-12       1970            5.0   \n",
       "196549               2013        2013-05-01       1970           14.0   \n",
       "196550               2012        2013-10-30       1970           44.0   \n",
       "196551               2006        2008-09-10       1970            1.0   \n",
       "196552               2006        2008-09-10       1970            1.0   \n",
       "\n",
       "              lat         lng  \n",
       "0       47.606209 -122.332071  \n",
       "1       34.021122 -118.396467  \n",
       "2       37.562992 -122.325525  \n",
       "3       30.427755   -9.598107  \n",
       "4       30.427755   -9.598107  \n",
       "...           ...         ...  \n",
       "196548  37.774929 -122.419415  \n",
       "196549  37.338208 -121.886329  \n",
       "196550  38.882334  -77.171091  \n",
       "196551  34.052234 -118.243685  \n",
       "196552  34.035633 -118.515590  \n",
       "\n",
       "[109464 rows x 18 columns]"
      ]
     },
     "execution_count": 47,
     "metadata": {},
     "output_type": "execute_result"
    }
   ],
   "source": [
    "# For founded_at\n",
    "drop_dupe['founded_at']=pd.to_datetime(drop_dupe['founded_at']).dt.strftime('%Y')\n",
    "\n",
    "# # closed_at\n",
    "drop_dupe['closed_at']=pd.to_datetime(drop_dupe['closed_at']).dt.strftime('%Y')\n",
    "                                       \n",
    "# # # first_funding_at\n",
    "drop_dupe['first_funding_at']=pd.to_datetime(drop_dupe['first_funding_at']).dt.strftime('%Y')\n",
    "\n",
    "# # # last_funding_at\n",
    "drop_dupe['last_funding_at']=pd.to_datetime(drop_dupe['last_funding_at']).dt.strftime('%Y')\n",
    "\n",
    "\n",
    "# # # first_milestone_at\n",
    "drop_dupe['first_milestone_at']=pd.to_datetime(drop_dupe['first_milestone_at']).dt.strftime('%Y')\n",
    "\n",
    "\n",
    "# # # last_milestone_at\n",
    "drop_dupe['milestones']=pd.to_datetime(drop_dupe['milestones']).dt.strftime('%Y')\n",
    "\n",
    "\n",
    "drop_dupe"
   ]
  },
  {
   "cell_type": "markdown",
   "id": "cda991d8",
   "metadata": {
    "id": "cda991d8"
   },
   "source": [
    " #### 1.b. Generalize the categorical data i.e. category_code and  country_code "
   ]
  },
  {
   "cell_type": "code",
   "execution_count": 51,
   "id": "57cc43c6",
   "metadata": {
    "id": "57cc43c6"
   },
   "outputs": [
    {
     "data": {
      "text/plain": [
       "15"
      ]
     },
     "execution_count": 51,
     "metadata": {},
     "output_type": "execute_result"
    }
   ],
   "source": [
    "# 1. category_code\n",
    "drop_dupe['category_code'].nunique()"
   ]
  },
  {
   "cell_type": "code",
   "execution_count": 52,
   "id": "f8a1b6a2",
   "metadata": {
    "id": "f8a1b6a2"
   },
   "outputs": [],
   "source": [
    "# Since there are 42 categories, one-hot encoding which is going to create a lot of columns so\n",
    "# Lets Check the repetition of value in ascending order and keep the first 15 values and name \n",
    "\n",
    "new_cat=drop_dupe['category_code'].value_counts()\n",
    "\n",
    "top_cat= new_cat.head(15).index.tolist()\n",
    "\n",
    "drop_dupe['category_code']=drop_dupe['category_code'].replace({value: 'other' for value in new_cat.index \n",
    "                                                     if value not in top_cat})"
   ]
  },
  {
   "cell_type": "code",
   "execution_count": 53,
   "id": "322cb13c",
   "metadata": {},
   "outputs": [
    {
     "data": {
      "text/plain": [
       "<AxesSubplot:xlabel='category_code', ylabel='count'>"
      ]
     },
     "execution_count": 53,
     "metadata": {},
     "output_type": "execute_result"
    },
    {
     "data": {
      "image/png": "[encoded data removed]",
      "text/plain": [
       "<Figure size 2880x720 with 1 Axes>"
      ]
     },
     "metadata": {},
     "output_type": "display_data"
    }
   ],
   "source": [
    "plt.figure(figsize=(40,10))\n",
    "sns.countplot(data=drop_dupe, x='category_code')"
   ]
  },
  {
   "cell_type": "markdown",
   "id": "ed7dd838",
   "metadata": {
    "id": "ed7dd838"
   },
   "source": [
    "### Let's encode 'country' column now."
   ]
  },
  {
   "cell_type": "code",
   "execution_count": 54,
   "id": "8602fa7b",
   "metadata": {
    "id": "8602fa7b"
   },
   "outputs": [
    {
     "data": {
      "text/plain": [
       "175"
      ]
     },
     "execution_count": 54,
     "metadata": {},
     "output_type": "execute_result"
    }
   ],
   "source": [
    "# 1. country_code\n",
    "drop_dupe['country_code'].nunique()"
   ]
  },
  {
   "cell_type": "code",
   "execution_count": 55,
   "id": "1a77e320",
   "metadata": {
    "id": "1a77e320"
   },
   "outputs": [],
   "source": [
    "\n",
    "# Since there are 161 categories, one-hot encoding which is going to create a lot of columns so\n",
    "# Lets Check the repetition of value in ascending order and keep the first 10 values and name \n",
    "# remaining one as other.\n",
    "\n",
    "new_cat1=drop_dupe['country_code'].value_counts()\n",
    "\n",
    "top_cat1= new_cat1.head(10).index.tolist()\n",
    "\n",
    "drop_dupe['country_code']=drop_dupe['country_code'].replace({value: 'other' for value in new_cat1.index \n",
    "                                                     if value not in top_cat1})\n"
   ]
  },
  {
   "cell_type": "code",
   "execution_count": 56,
   "id": "be4d3fe2",
   "metadata": {},
   "outputs": [
    {
     "data": {
      "text/plain": [
       "<AxesSubplot:xlabel='country_code', ylabel='count'>"
      ]
     },
     "execution_count": 56,
     "metadata": {},
     "output_type": "execute_result"
    },
    {
     "data": {
      "image/png": "[encoded data removed]",
      "text/plain": [
       "<Figure size 2880x720 with 1 Axes>"
      ]
     },
     "metadata": {},
     "output_type": "display_data"
    }
   ],
   "source": [
    "plt.figure(figsize=(40,10))\n",
    "sns.countplot(data=drop_dupe, x='country_code')"
   ]
  },
  {
   "cell_type": "code",
   "execution_count": 57,
   "id": "2b085791",
   "metadata": {},
   "outputs": [],
   "source": [
    "#one hot encoding of nominal variables\n",
    "onehot_col=['category_code','country_code']\n",
    "drop_dupe_onehot=pd.get_dummies(drop_dupe[onehot_col])\n",
    "#adding the one hot encoded columns to the main columns\n",
    "drop_dupe=pd.concat([drop_dupe,drop_dupe_onehot],axis=1)"
   ]
  },
  {
   "cell_type": "code",
   "execution_count": 59,
   "id": "eb09f6a9",
   "metadata": {},
   "outputs": [
    {
     "data": {
      "text/html": [
       "<div>\n",
       "<style scoped>\n",
       "    .dataframe tbody tr th:only-of-type {\n",
       "        vertical-align: middle;\n",
       "    }\n",
       "\n",
       "    .dataframe tbody tr th {\n",
       "        vertical-align: top;\n",
       "    }\n",
       "\n",
       "    .dataframe thead th {\n",
       "        text-align: right;\n",
       "    }\n",
       "</style>\n",
       "<table border=\"1\" class=\"dataframe\">\n",
       "  <thead>\n",
       "    <tr style=\"text-align: right;\">\n",
       "      <th></th>\n",
       "      <th>status</th>\n",
       "      <th>founded_at</th>\n",
       "      <th>closed_at</th>\n",
       "      <th>first_investment_at</th>\n",
       "      <th>last_investment_at</th>\n",
       "      <th>investment_rounds</th>\n",
       "      <th>first_funding_at</th>\n",
       "      <th>last_funding_at</th>\n",
       "      <th>funding_rounds</th>\n",
       "      <th>funding_total_usd</th>\n",
       "      <th>...</th>\n",
       "      <th>country_code_CAN</th>\n",
       "      <th>country_code_DEU</th>\n",
       "      <th>country_code_ESP</th>\n",
       "      <th>country_code_FRA</th>\n",
       "      <th>country_code_GBR</th>\n",
       "      <th>country_code_IND</th>\n",
       "      <th>country_code_ISR</th>\n",
       "      <th>country_code_NLD</th>\n",
       "      <th>country_code_USA</th>\n",
       "      <th>country_code_other</th>\n",
       "    </tr>\n",
       "  </thead>\n",
       "  <tbody>\n",
       "    <tr>\n",
       "      <th>0</th>\n",
       "      <td>operating</td>\n",
       "      <td>2005</td>\n",
       "      <td>2010</td>\n",
       "      <td>2012-12-27</td>\n",
       "      <td>2013-09-24</td>\n",
       "      <td>1.0</td>\n",
       "      <td>2005</td>\n",
       "      <td>2008</td>\n",
       "      <td>3.0</td>\n",
       "      <td>39750000.0</td>\n",
       "      <td>...</td>\n",
       "      <td>0</td>\n",
       "      <td>0</td>\n",
       "      <td>0</td>\n",
       "      <td>0</td>\n",
       "      <td>0</td>\n",
       "      <td>0</td>\n",
       "      <td>0</td>\n",
       "      <td>0</td>\n",
       "      <td>1</td>\n",
       "      <td>0</td>\n",
       "    </tr>\n",
       "    <tr>\n",
       "      <th>1</th>\n",
       "      <td>acquired</td>\n",
       "      <td>2008</td>\n",
       "      <td>2010</td>\n",
       "      <td>2012-12-27</td>\n",
       "      <td>2013-09-24</td>\n",
       "      <td>1.0</td>\n",
       "      <td>2008</td>\n",
       "      <td>2008</td>\n",
       "      <td>1.0</td>\n",
       "      <td>5000000.0</td>\n",
       "      <td>...</td>\n",
       "      <td>0</td>\n",
       "      <td>0</td>\n",
       "      <td>0</td>\n",
       "      <td>0</td>\n",
       "      <td>0</td>\n",
       "      <td>0</td>\n",
       "      <td>0</td>\n",
       "      <td>0</td>\n",
       "      <td>1</td>\n",
       "      <td>0</td>\n",
       "    </tr>\n",
       "    <tr>\n",
       "      <th>2</th>\n",
       "      <td>acquired</td>\n",
       "      <td>2008</td>\n",
       "      <td>2010</td>\n",
       "      <td>2012-12-27</td>\n",
       "      <td>2013-09-24</td>\n",
       "      <td>1.0</td>\n",
       "      <td>2008</td>\n",
       "      <td>2008</td>\n",
       "      <td>1.0</td>\n",
       "      <td>5000000.0</td>\n",
       "      <td>...</td>\n",
       "      <td>0</td>\n",
       "      <td>0</td>\n",
       "      <td>0</td>\n",
       "      <td>0</td>\n",
       "      <td>0</td>\n",
       "      <td>0</td>\n",
       "      <td>0</td>\n",
       "      <td>0</td>\n",
       "      <td>1</td>\n",
       "      <td>0</td>\n",
       "    </tr>\n",
       "    <tr>\n",
       "      <th>3</th>\n",
       "      <td>operating</td>\n",
       "      <td>2008</td>\n",
       "      <td>2010</td>\n",
       "      <td>2012-12-27</td>\n",
       "      <td>2013-09-24</td>\n",
       "      <td>1.0</td>\n",
       "      <td>2008</td>\n",
       "      <td>2008</td>\n",
       "      <td>1.0</td>\n",
       "      <td>5000000.0</td>\n",
       "      <td>...</td>\n",
       "      <td>0</td>\n",
       "      <td>0</td>\n",
       "      <td>0</td>\n",
       "      <td>0</td>\n",
       "      <td>0</td>\n",
       "      <td>0</td>\n",
       "      <td>0</td>\n",
       "      <td>0</td>\n",
       "      <td>0</td>\n",
       "      <td>1</td>\n",
       "    </tr>\n",
       "    <tr>\n",
       "      <th>4</th>\n",
       "      <td>operating</td>\n",
       "      <td>2008</td>\n",
       "      <td>2010</td>\n",
       "      <td>2012-12-27</td>\n",
       "      <td>2013-09-24</td>\n",
       "      <td>1.0</td>\n",
       "      <td>2008</td>\n",
       "      <td>2008</td>\n",
       "      <td>1.0</td>\n",
       "      <td>5000000.0</td>\n",
       "      <td>...</td>\n",
       "      <td>0</td>\n",
       "      <td>0</td>\n",
       "      <td>0</td>\n",
       "      <td>0</td>\n",
       "      <td>0</td>\n",
       "      <td>0</td>\n",
       "      <td>0</td>\n",
       "      <td>0</td>\n",
       "      <td>0</td>\n",
       "      <td>1</td>\n",
       "    </tr>\n",
       "  </tbody>\n",
       "</table>\n",
       "<p>5 rows × 42 columns</p>\n",
       "</div>"
      ],
      "text/plain": [
       "      status founded_at closed_at first_investment_at last_investment_at  \\\n",
       "0  operating       2005      2010          2012-12-27         2013-09-24   \n",
       "1   acquired       2008      2010          2012-12-27         2013-09-24   \n",
       "2   acquired       2008      2010          2012-12-27         2013-09-24   \n",
       "3  operating       2008      2010          2012-12-27         2013-09-24   \n",
       "4  operating       2008      2010          2012-12-27         2013-09-24   \n",
       "\n",
       "   investment_rounds first_funding_at last_funding_at  funding_rounds  \\\n",
       "0                1.0             2005            2008             3.0   \n",
       "1                1.0             2008            2008             1.0   \n",
       "2                1.0             2008            2008             1.0   \n",
       "3                1.0             2008            2008             1.0   \n",
       "4                1.0             2008            2008             1.0   \n",
       "\n",
       "   funding_total_usd  ... country_code_CAN country_code_DEU country_code_ESP  \\\n",
       "0         39750000.0  ...                0                0                0   \n",
       "1          5000000.0  ...                0                0                0   \n",
       "2          5000000.0  ...                0                0                0   \n",
       "3          5000000.0  ...                0                0                0   \n",
       "4          5000000.0  ...                0                0                0   \n",
       "\n",
       "   country_code_FRA  country_code_GBR  country_code_IND  country_code_ISR  \\\n",
       "0                 0                 0                 0                 0   \n",
       "1                 0                 0                 0                 0   \n",
       "2                 0                 0                 0                 0   \n",
       "3                 0                 0                 0                 0   \n",
       "4                 0                 0                 0                 0   \n",
       "\n",
       "   country_code_NLD  country_code_USA  country_code_other  \n",
       "0                 0                 1                   0  \n",
       "1                 0                 1                   0  \n",
       "2                 0                 1                   0  \n",
       "3                 0                 0                   1  \n",
       "4                 0                 0                   1  \n",
       "\n",
       "[5 rows x 42 columns]"
      ]
     },
     "execution_count": 59,
     "metadata": {},
     "output_type": "execute_result"
    }
   ],
   "source": [
    "# drop these column\n",
    "drop_dupe=drop_dupe.drop(['category_code','country_code'],axis=1)\n",
    "\n",
    "drop_dupe.head()"
   ]
  },
  {
   "cell_type": "code",
   "execution_count": null,
   "id": "e789e70f",
   "metadata": {},
   "outputs": [],
   "source": []
  },
  {
   "cell_type": "code",
   "execution_count": null,
   "id": "ffc034c6",
   "metadata": {},
   "outputs": [],
   "source": []
  },
  {
   "cell_type": "markdown",
   "id": "25a0b0b1",
   "metadata": {
    "id": "25a0b0b1"
   },
   "source": [
    "### 2. Create new variables¶\n",
    "    a. Create new feature isClosed from closed_at and status.\n",
    "    b. Create new feature 'active_days'"
   ]
  },
  {
   "cell_type": "markdown",
   "id": "bea27974",
   "metadata": {
    "id": "bea27974"
   },
   "source": [
    "#### 2.a. Create new feature isClosed from closed_at and status.\n",
    "     - if the value in status is 'operating' or 'ipo', Let's put 1.\n",
    "     - Where as if the value is 'acquired' or 'closed', let's put 0."
   ]
  },
  {
   "cell_type": "code",
   "execution_count": 61,
   "id": "eb3dfc50",
   "metadata": {
    "id": "eb3dfc50"
   },
   "outputs": [
    {
     "data": {
      "text/plain": [
       "array(['operating', 'acquired', 'closed', 'ipo'], dtype=object)"
      ]
     },
     "execution_count": 61,
     "metadata": {},
     "output_type": "execute_result"
    }
   ],
   "source": [
    "drop_dupe['status'].unique()"
   ]
  },
  {
   "cell_type": "code",
   "execution_count": 65,
   "id": "b7a6bc0b",
   "metadata": {
    "id": "b7a6bc0b",
    "scrolled": true
   },
   "outputs": [
    {
     "data": {
      "text/plain": [
       "1    99511\n",
       "0     9953\n",
       "Name: isopen, dtype: int64"
      ]
     },
     "execution_count": 65,
     "metadata": {},
     "output_type": "execute_result"
    }
   ],
   "source": [
    "status_comp=['operating','ipo']\n",
    "\n",
    "#creating a column for company status, in that open : 1 and closed :0 \n",
    "\n",
    "drop_dupe['isopen']=drop_dupe['status'].apply(lambda x: 1 if x in status_comp else 0)\n",
    "\n",
    "drop_dupe['isopen'].value_counts()"
   ]
  },
  {
   "cell_type": "code",
   "execution_count": 82,
   "id": "b37ab7e6",
   "metadata": {
    "id": "b37ab7e6"
   },
   "outputs": [
    {
     "data": {
      "text/html": [
       "<div>\n",
       "<style scoped>\n",
       "    .dataframe tbody tr th:only-of-type {\n",
       "        vertical-align: middle;\n",
       "    }\n",
       "\n",
       "    .dataframe tbody tr th {\n",
       "        vertical-align: top;\n",
       "    }\n",
       "\n",
       "    .dataframe thead th {\n",
       "        text-align: right;\n",
       "    }\n",
       "</style>\n",
       "<table border=\"1\" class=\"dataframe\">\n",
       "  <thead>\n",
       "    <tr style=\"text-align: right;\">\n",
       "      <th></th>\n",
       "      <th>status</th>\n",
       "      <th>founded_at</th>\n",
       "      <th>closed_at</th>\n",
       "      <th>first_investment_at</th>\n",
       "      <th>last_investment_at</th>\n",
       "      <th>investment_rounds</th>\n",
       "      <th>first_funding_at</th>\n",
       "      <th>last_funding_at</th>\n",
       "      <th>funding_rounds</th>\n",
       "      <th>funding_total_usd</th>\n",
       "      <th>...</th>\n",
       "      <th>country_code_DEU</th>\n",
       "      <th>country_code_ESP</th>\n",
       "      <th>country_code_FRA</th>\n",
       "      <th>country_code_GBR</th>\n",
       "      <th>country_code_IND</th>\n",
       "      <th>country_code_ISR</th>\n",
       "      <th>country_code_NLD</th>\n",
       "      <th>country_code_USA</th>\n",
       "      <th>country_code_other</th>\n",
       "      <th>isopen</th>\n",
       "    </tr>\n",
       "  </thead>\n",
       "  <tbody>\n",
       "    <tr>\n",
       "      <th>0</th>\n",
       "      <td>operating</td>\n",
       "      <td>2005</td>\n",
       "      <td>2010</td>\n",
       "      <td>2012-12-27</td>\n",
       "      <td>2013-09-24</td>\n",
       "      <td>1.0</td>\n",
       "      <td>2005</td>\n",
       "      <td>2008</td>\n",
       "      <td>3.0</td>\n",
       "      <td>39750000.0</td>\n",
       "      <td>...</td>\n",
       "      <td>0</td>\n",
       "      <td>0</td>\n",
       "      <td>0</td>\n",
       "      <td>0</td>\n",
       "      <td>0</td>\n",
       "      <td>0</td>\n",
       "      <td>0</td>\n",
       "      <td>1</td>\n",
       "      <td>0</td>\n",
       "      <td>1</td>\n",
       "    </tr>\n",
       "    <tr>\n",
       "      <th>1</th>\n",
       "      <td>acquired</td>\n",
       "      <td>2008</td>\n",
       "      <td>2010</td>\n",
       "      <td>2012-12-27</td>\n",
       "      <td>2013-09-24</td>\n",
       "      <td>1.0</td>\n",
       "      <td>2008</td>\n",
       "      <td>2008</td>\n",
       "      <td>1.0</td>\n",
       "      <td>5000000.0</td>\n",
       "      <td>...</td>\n",
       "      <td>0</td>\n",
       "      <td>0</td>\n",
       "      <td>0</td>\n",
       "      <td>0</td>\n",
       "      <td>0</td>\n",
       "      <td>0</td>\n",
       "      <td>0</td>\n",
       "      <td>1</td>\n",
       "      <td>0</td>\n",
       "      <td>0</td>\n",
       "    </tr>\n",
       "    <tr>\n",
       "      <th>2</th>\n",
       "      <td>acquired</td>\n",
       "      <td>2008</td>\n",
       "      <td>2010</td>\n",
       "      <td>2012-12-27</td>\n",
       "      <td>2013-09-24</td>\n",
       "      <td>1.0</td>\n",
       "      <td>2008</td>\n",
       "      <td>2008</td>\n",
       "      <td>1.0</td>\n",
       "      <td>5000000.0</td>\n",
       "      <td>...</td>\n",
       "      <td>0</td>\n",
       "      <td>0</td>\n",
       "      <td>0</td>\n",
       "      <td>0</td>\n",
       "      <td>0</td>\n",
       "      <td>0</td>\n",
       "      <td>0</td>\n",
       "      <td>1</td>\n",
       "      <td>0</td>\n",
       "      <td>0</td>\n",
       "    </tr>\n",
       "    <tr>\n",
       "      <th>3</th>\n",
       "      <td>operating</td>\n",
       "      <td>2008</td>\n",
       "      <td>2010</td>\n",
       "      <td>2012-12-27</td>\n",
       "      <td>2013-09-24</td>\n",
       "      <td>1.0</td>\n",
       "      <td>2008</td>\n",
       "      <td>2008</td>\n",
       "      <td>1.0</td>\n",
       "      <td>5000000.0</td>\n",
       "      <td>...</td>\n",
       "      <td>0</td>\n",
       "      <td>0</td>\n",
       "      <td>0</td>\n",
       "      <td>0</td>\n",
       "      <td>0</td>\n",
       "      <td>0</td>\n",
       "      <td>0</td>\n",
       "      <td>0</td>\n",
       "      <td>1</td>\n",
       "      <td>1</td>\n",
       "    </tr>\n",
       "    <tr>\n",
       "      <th>4</th>\n",
       "      <td>operating</td>\n",
       "      <td>2008</td>\n",
       "      <td>2010</td>\n",
       "      <td>2012-12-27</td>\n",
       "      <td>2013-09-24</td>\n",
       "      <td>1.0</td>\n",
       "      <td>2008</td>\n",
       "      <td>2008</td>\n",
       "      <td>1.0</td>\n",
       "      <td>5000000.0</td>\n",
       "      <td>...</td>\n",
       "      <td>0</td>\n",
       "      <td>0</td>\n",
       "      <td>0</td>\n",
       "      <td>0</td>\n",
       "      <td>0</td>\n",
       "      <td>0</td>\n",
       "      <td>0</td>\n",
       "      <td>0</td>\n",
       "      <td>1</td>\n",
       "      <td>1</td>\n",
       "    </tr>\n",
       "  </tbody>\n",
       "</table>\n",
       "<p>5 rows × 43 columns</p>\n",
       "</div>"
      ],
      "text/plain": [
       "      status founded_at closed_at first_investment_at last_investment_at  \\\n",
       "0  operating       2005      2010          2012-12-27         2013-09-24   \n",
       "1   acquired       2008      2010          2012-12-27         2013-09-24   \n",
       "2   acquired       2008      2010          2012-12-27         2013-09-24   \n",
       "3  operating       2008      2010          2012-12-27         2013-09-24   \n",
       "4  operating       2008      2010          2012-12-27         2013-09-24   \n",
       "\n",
       "   investment_rounds first_funding_at last_funding_at  funding_rounds  \\\n",
       "0                1.0             2005            2008             3.0   \n",
       "1                1.0             2008            2008             1.0   \n",
       "2                1.0             2008            2008             1.0   \n",
       "3                1.0             2008            2008             1.0   \n",
       "4                1.0             2008            2008             1.0   \n",
       "\n",
       "   funding_total_usd  ... country_code_DEU country_code_ESP country_code_FRA  \\\n",
       "0         39750000.0  ...                0                0                0   \n",
       "1          5000000.0  ...                0                0                0   \n",
       "2          5000000.0  ...                0                0                0   \n",
       "3          5000000.0  ...                0                0                0   \n",
       "4          5000000.0  ...                0                0                0   \n",
       "\n",
       "   country_code_GBR  country_code_IND  country_code_ISR  country_code_NLD  \\\n",
       "0                 0                 0                 0                 0   \n",
       "1                 0                 0                 0                 0   \n",
       "2                 0                 0                 0                 0   \n",
       "3                 0                 0                 0                 0   \n",
       "4                 0                 0                 0                 0   \n",
       "\n",
       "   country_code_USA  country_code_other  isopen  \n",
       "0                 1                   0       1  \n",
       "1                 1                   0       0  \n",
       "2                 1                   0       0  \n",
       "3                 0                   1       1  \n",
       "4                 0                   1       1  \n",
       "\n",
       "[5 rows x 43 columns]"
      ]
     },
     "execution_count": 82,
     "metadata": {},
     "output_type": "execute_result"
    }
   ],
   "source": [
    "drop_dupe.head()"
   ]
  },
  {
   "cell_type": "code",
   "execution_count": 84,
   "id": "e1cf52f2",
   "metadata": {},
   "outputs": [
    {
     "name": "stdout",
     "output_type": "stream",
     "text": [
      "<class 'pandas.core.frame.DataFrame'>\n",
      "Int64Index: 109464 entries, 0 to 196552\n",
      "Data columns (total 43 columns):\n",
      " #   Column                          Non-Null Count   Dtype  \n",
      "---  ------                          --------------   -----  \n",
      " 0   status                          109464 non-null  object \n",
      " 1   founded_at                      109464 non-null  object \n",
      " 2   closed_at                       109453 non-null  object \n",
      " 3   first_investment_at             109431 non-null  object \n",
      " 4   last_investment_at              109431 non-null  object \n",
      " 5   investment_rounds               109431 non-null  float64\n",
      " 6   first_funding_at                109464 non-null  object \n",
      " 7   last_funding_at                 109464 non-null  object \n",
      " 8   funding_rounds                  109464 non-null  float64\n",
      " 9   funding_total_usd               109464 non-null  float64\n",
      " 10  first_milestone_at              109464 non-null  object \n",
      " 11  last_milestone_at               109464 non-null  object \n",
      " 12  milestones                      109464 non-null  object \n",
      " 13  relationships                   109464 non-null  float64\n",
      " 14  lat                             109464 non-null  float64\n",
      " 15  lng                             109464 non-null  float64\n",
      " 16  category_code_advertising       109464 non-null  uint8  \n",
      " 17  category_code_biotech           109464 non-null  uint8  \n",
      " 18  category_code_cleantech         109464 non-null  uint8  \n",
      " 19  category_code_consulting        109464 non-null  uint8  \n",
      " 20  category_code_ecommerce         109464 non-null  uint8  \n",
      " 21  category_code_education         109464 non-null  uint8  \n",
      " 22  category_code_enterprise        109464 non-null  uint8  \n",
      " 23  category_code_games_video       109464 non-null  uint8  \n",
      " 24  category_code_hardware          109464 non-null  uint8  \n",
      " 25  category_code_mobile            109464 non-null  uint8  \n",
      " 26  category_code_network_hosting   109464 non-null  uint8  \n",
      " 27  category_code_other             109464 non-null  uint8  \n",
      " 28  category_code_public_relations  109464 non-null  uint8  \n",
      " 29  category_code_software          109464 non-null  uint8  \n",
      " 30  category_code_web               109464 non-null  uint8  \n",
      " 31  country_code_AUS                109464 non-null  uint8  \n",
      " 32  country_code_CAN                109464 non-null  uint8  \n",
      " 33  country_code_DEU                109464 non-null  uint8  \n",
      " 34  country_code_ESP                109464 non-null  uint8  \n",
      " 35  country_code_FRA                109464 non-null  uint8  \n",
      " 36  country_code_GBR                109464 non-null  uint8  \n",
      " 37  country_code_IND                109464 non-null  uint8  \n",
      " 38  country_code_ISR                109464 non-null  uint8  \n",
      " 39  country_code_NLD                109464 non-null  uint8  \n",
      " 40  country_code_USA                109464 non-null  uint8  \n",
      " 41  country_code_other              109464 non-null  uint8  \n",
      " 42  isopen                          109464 non-null  int64  \n",
      "dtypes: float64(6), int64(1), object(10), uint8(26)\n",
      "memory usage: 17.7+ MB\n"
     ]
    }
   ],
   "source": [
    "drop_dupe.info()"
   ]
  },
  {
   "cell_type": "code",
   "execution_count": null,
   "id": "857831f6",
   "metadata": {},
   "outputs": [],
   "source": []
  }
 ],
 "metadata": {
  "colab": {
   "provenance": []
  },
  "kernelspec": {
   "display_name": "Python 3 (ipykernel)",
   "language": "python",
   "name": "python3"
  },
  "language_info": {
   "codemirror_mode": {
    "name": "ipython",
    "version": 3
   },
   "file_extension": ".py",
   "mimetype": "text/x-python",
   "name": "python",
   "nbconvert_exporter": "python",
   "pygments_lexer": "ipython3",
   "version": "3.9.12"
  }
 },
 "nbformat": 4,
 "nbformat_minor": 5
}
